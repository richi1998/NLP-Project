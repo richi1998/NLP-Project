{
  "cells": [
    {
      "cell_type": "markdown",
      "metadata": {
        "id": "view-in-github",
        "colab_type": "text"
      },
      "source": [
        "<a href=\"https://colab.research.google.com/github/richi1998/NLP-Project/blob/main/NLP_Assignment_4.ipynb\" target=\"_parent\"><img src=\"https://colab.research.google.com/assets/colab-badge.svg\" alt=\"Open In Colab\"/></a>"
      ]
    },
    {
      "cell_type": "markdown",
      "metadata": {
        "id": "515lRhuHc_MR"
      },
      "source": [
        "## For Colab users\n",
        "\n",
        "Uncomment the following to install the Transformers library (only necessary if you solve the second optional task)."
      ]
    },
    {
      "cell_type": "code",
      "execution_count": null,
      "metadata": {
        "colab": {
          "base_uri": "https://localhost:8080/"
        },
        "id": "S5mmR1FUclzV",
        "outputId": "9665019e-f40a-45c4-bb72-4dd96bdf09ee"
      },
      "outputs": [
        {
          "output_type": "stream",
          "name": "stdout",
          "text": [
            "--2024-01-08 09:28:35--  https://github.com/richi1998/NLP-Project/raw/main/ner_dataset.csv.zip\n",
            "Resolving github.com (github.com)... 140.82.114.3\n",
            "Connecting to github.com (github.com)|140.82.114.3|:443... connected.\n",
            "HTTP request sent, awaiting response... 302 Found\n",
            "Location: https://raw.githubusercontent.com/richi1998/NLP-Project/main/ner_dataset.csv.zip [following]\n",
            "--2024-01-08 09:28:36--  https://raw.githubusercontent.com/richi1998/NLP-Project/main/ner_dataset.csv.zip\n",
            "Resolving raw.githubusercontent.com (raw.githubusercontent.com)... 185.199.111.133, 185.199.108.133, 185.199.110.133, ...\n",
            "Connecting to raw.githubusercontent.com (raw.githubusercontent.com)|185.199.111.133|:443... connected.\n",
            "HTTP request sent, awaiting response... 200 OK\n",
            "Length: 3319491 (3.2M) [application/zip]\n",
            "Saving to: ‘ner_dataset.csv.zip’\n",
            "\n",
            "ner_dataset.csv.zip 100%[===================>]   3.17M  --.-KB/s    in 0.04s   \n",
            "\n",
            "2024-01-08 09:28:36 (74.9 MB/s) - ‘ner_dataset.csv.zip’ saved [3319491/3319491]\n",
            "\n",
            "Files in the current directory: ['.config', 'ner_dataset.csv', 'ner_dataset.csv.zip', 'sample_data']\n",
            "Collecting allennlp\n",
            "  Downloading allennlp-2.10.1-py3-none-any.whl (730 kB)\n",
            "\u001b[2K     \u001b[90m━━━━━━━━━━━━━━━━━━━━━━━━━━━━━━━━━━━━━━━━\u001b[0m \u001b[32m730.2/730.2 kB\u001b[0m \u001b[31m8.0 MB/s\u001b[0m eta \u001b[36m0:00:00\u001b[0m\n",
            "\u001b[?25hCollecting torch<1.13.0,>=1.10.0 (from allennlp)\n",
            "  Downloading torch-1.12.1-cp310-cp310-manylinux1_x86_64.whl (776.3 MB)\n",
            "\u001b[2K     \u001b[90m━━━━━━━━━━━━━━━━━━━━━━━━━━━━━━━━━━━━━━━━\u001b[0m \u001b[32m776.3/776.3 MB\u001b[0m \u001b[31m2.1 MB/s\u001b[0m eta \u001b[36m0:00:00\u001b[0m\n",
            "\u001b[?25hCollecting torchvision<0.14.0,>=0.8.1 (from allennlp)\n",
            "  Downloading torchvision-0.13.1-cp310-cp310-manylinux1_x86_64.whl (19.1 MB)\n",
            "\u001b[2K     \u001b[90m━━━━━━━━━━━━━━━━━━━━━━━━━━━━━━━━━━━━━━━━\u001b[0m \u001b[32m19.1/19.1 MB\u001b[0m \u001b[31m66.5 MB/s\u001b[0m eta \u001b[36m0:00:00\u001b[0m\n",
            "\u001b[?25hCollecting cached-path<1.2.0,>=1.1.3 (from allennlp)\n",
            "  Downloading cached_path-1.1.6-py3-none-any.whl (26 kB)\n",
            "Collecting fairscale==0.4.6 (from allennlp)\n",
            "  Downloading fairscale-0.4.6.tar.gz (248 kB)\n",
            "\u001b[2K     \u001b[90m━━━━━━━━━━━━━━━━━━━━━━━━━━━━━━━━━━━━━━━━\u001b[0m \u001b[32m248.2/248.2 kB\u001b[0m \u001b[31m33.5 MB/s\u001b[0m eta \u001b[36m0:00:00\u001b[0m\n",
            "\u001b[?25h  Installing build dependencies ... \u001b[?25l\u001b[?25hdone\n",
            "  Getting requirements to build wheel ... \u001b[?25l\u001b[?25hdone\n",
            "  Installing backend dependencies ... \u001b[?25l\u001b[?25hdone\n",
            "  Preparing metadata (pyproject.toml) ... \u001b[?25l\u001b[?25hdone\n",
            "Requirement already satisfied: nltk>=3.6.5 in /usr/local/lib/python3.10/dist-packages (from allennlp) (3.8.1)\n",
            "Collecting spacy<3.4,>=2.1.0 (from allennlp)\n",
            "  Downloading spacy-3.3.3-cp310-cp310-manylinux_2_17_x86_64.manylinux2014_x86_64.whl (6.3 MB)\n",
            "\u001b[2K     \u001b[90m━━━━━━━━━━━━━━━━━━━━━━━━━━━━━━━━━━━━━━━━\u001b[0m \u001b[32m6.3/6.3 MB\u001b[0m \u001b[31m91.7 MB/s\u001b[0m eta \u001b[36m0:00:00\u001b[0m\n",
            "\u001b[?25hRequirement already satisfied: numpy>=1.21.4 in /usr/local/lib/python3.10/dist-packages (from allennlp) (1.23.5)\n",
            "Collecting tensorboardX>=1.2 (from allennlp)\n",
            "  Downloading tensorboardX-2.6.2.2-py2.py3-none-any.whl (101 kB)\n",
            "\u001b[2K     \u001b[90m━━━━━━━━━━━━━━━━━━━━━━━━━━━━━━━━━━━━━━━━\u001b[0m \u001b[32m101.7/101.7 kB\u001b[0m \u001b[31m16.0 MB/s\u001b[0m eta \u001b[36m0:00:00\u001b[0m\n",
            "\u001b[?25hRequirement already satisfied: requests>=2.28 in /usr/local/lib/python3.10/dist-packages (from allennlp) (2.31.0)\n",
            "Requirement already satisfied: tqdm>=4.62 in /usr/local/lib/python3.10/dist-packages (from allennlp) (4.66.1)\n",
            "Requirement already satisfied: h5py>=3.6.0 in /usr/local/lib/python3.10/dist-packages (from allennlp) (3.9.0)\n",
            "Requirement already satisfied: scikit-learn>=1.0.1 in /usr/local/lib/python3.10/dist-packages (from allennlp) (1.2.2)\n",
            "Requirement already satisfied: scipy>=1.7.3 in /usr/local/lib/python3.10/dist-packages (from allennlp) (1.11.4)\n",
            "Requirement already satisfied: pytest>=6.2.5 in /usr/local/lib/python3.10/dist-packages (from allennlp) (7.4.3)\n",
            "Collecting transformers<4.21,>=4.1 (from allennlp)\n",
            "  Downloading transformers-4.20.1-py3-none-any.whl (4.4 MB)\n",
            "\u001b[2K     \u001b[90m━━━━━━━━━━━━━━━━━━━━━━━━━━━━━━━━━━━━━━━━\u001b[0m \u001b[32m4.4/4.4 MB\u001b[0m \u001b[31m113.5 MB/s\u001b[0m eta \u001b[36m0:00:00\u001b[0m\n",
            "\u001b[?25hCollecting sentencepiece>=0.1.96 (from allennlp)\n",
            "  Downloading sentencepiece-0.1.99-cp310-cp310-manylinux_2_17_x86_64.manylinux2014_x86_64.whl (1.3 MB)\n",
            "\u001b[2K     \u001b[90m━━━━━━━━━━━━━━━━━━━━━━━━━━━━━━━━━━━━━━━━\u001b[0m \u001b[32m1.3/1.3 MB\u001b[0m \u001b[31m91.4 MB/s\u001b[0m eta \u001b[36m0:00:00\u001b[0m\n",
            "\u001b[?25hCollecting filelock<3.8,>=3.3 (from allennlp)\n",
            "  Downloading filelock-3.7.1-py3-none-any.whl (10 kB)\n",
            "Collecting lmdb>=1.2.1 (from allennlp)\n",
            "  Downloading lmdb-1.4.1-cp310-cp310-manylinux_2_17_x86_64.manylinux2014_x86_64.whl (299 kB)\n",
            "\u001b[2K     \u001b[90m━━━━━━━━━━━━━━━━━━━━━━━━━━━━━━━━━━━━━━━━\u001b[0m \u001b[32m299.2/299.2 kB\u001b[0m \u001b[31m41.0 MB/s\u001b[0m eta \u001b[36m0:00:00\u001b[0m\n",
            "\u001b[?25hRequirement already satisfied: more-itertools>=8.12.0 in /usr/local/lib/python3.10/dist-packages (from allennlp) (10.1.0)\n",
            "Collecting termcolor==1.1.0 (from allennlp)\n",
            "  Downloading termcolor-1.1.0.tar.gz (3.9 kB)\n",
            "  Preparing metadata (setup.py) ... \u001b[?25l\u001b[?25hdone\n",
            "Collecting wandb<0.13.0,>=0.10.0 (from allennlp)\n",
            "  Downloading wandb-0.12.21-py2.py3-none-any.whl (1.8 MB)\n",
            "\u001b[2K     \u001b[90m━━━━━━━━━━━━━━━━━━━━━━━━━━━━━━━━━━━━━━━━\u001b[0m \u001b[32m1.8/1.8 MB\u001b[0m \u001b[31m98.1 MB/s\u001b[0m eta \u001b[36m0:00:00\u001b[0m\n",
            "\u001b[?25hRequirement already satisfied: huggingface-hub>=0.0.16 in /usr/local/lib/python3.10/dist-packages (from allennlp) (0.20.1)\n",
            "Collecting dill>=0.3.4 (from allennlp)\n",
            "  Downloading dill-0.3.7-py3-none-any.whl (115 kB)\n",
            "\u001b[2K     \u001b[90m━━━━━━━━━━━━━━━━━━━━━━━━━━━━━━━━━━━━━━━━\u001b[0m \u001b[32m115.3/115.3 kB\u001b[0m \u001b[31m17.8 MB/s\u001b[0m eta \u001b[36m0:00:00\u001b[0m\n",
            "\u001b[?25hCollecting base58>=2.1.1 (from allennlp)\n",
            "  Downloading base58-2.1.1-py3-none-any.whl (5.6 kB)\n",
            "Collecting sacremoses (from allennlp)\n",
            "  Downloading sacremoses-0.1.1-py3-none-any.whl (897 kB)\n",
            "\u001b[2K     \u001b[90m━━━━━━━━━━━━━━━━━━━━━━━━━━━━━━━━━━━━━━━━\u001b[0m \u001b[32m897.5/897.5 kB\u001b[0m \u001b[31m33.4 MB/s\u001b[0m eta \u001b[36m0:00:00\u001b[0m\n",
            "\u001b[?25hRequirement already satisfied: typer>=0.4.1 in /usr/local/lib/python3.10/dist-packages (from allennlp) (0.9.0)\n",
            "Requirement already satisfied: protobuf<4.0.0,>=3.12.0 in /usr/local/lib/python3.10/dist-packages (from allennlp) (3.20.3)\n",
            "Requirement already satisfied: traitlets>5.1.1 in /usr/local/lib/python3.10/dist-packages (from allennlp) (5.7.1)\n",
            "Collecting jsonnet>=0.10.0 (from allennlp)\n",
            "  Downloading jsonnet-0.20.0.tar.gz (594 kB)\n",
            "\u001b[2K     \u001b[90m━━━━━━━━━━━━━━━━━━━━━━━━━━━━━━━━━━━━━━━━\u001b[0m \u001b[32m594.2/594.2 kB\u001b[0m \u001b[31m53.2 MB/s\u001b[0m eta \u001b[36m0:00:00\u001b[0m\n",
            "\u001b[?25h  Preparing metadata (setup.py) ... \u001b[?25l\u001b[?25hdone\n",
            "Collecting rich<13.0,>=12.1 (from cached-path<1.2.0,>=1.1.3->allennlp)\n",
            "  Downloading rich-12.6.0-py3-none-any.whl (237 kB)\n",
            "\u001b[2K     \u001b[90m━━━━━━━━━━━━━━━━━━━━━━━━━━━━━━━━━━━━━━━━\u001b[0m \u001b[32m237.5/237.5 kB\u001b[0m \u001b[31m31.0 MB/s\u001b[0m eta \u001b[36m0:00:00\u001b[0m\n",
            "\u001b[?25hCollecting boto3<2.0,>=1.0 (from cached-path<1.2.0,>=1.1.3->allennlp)\n",
            "  Downloading boto3-1.34.14-py3-none-any.whl (139 kB)\n",
            "\u001b[2K     \u001b[90m━━━━━━━━━━━━━━━━━━━━━━━━━━━━━━━━━━━━━━━━\u001b[0m \u001b[32m139.3/139.3 kB\u001b[0m \u001b[31m21.0 MB/s\u001b[0m eta \u001b[36m0:00:00\u001b[0m\n",
            "\u001b[?25hRequirement already satisfied: google-cloud-storage<3.0,>=1.32.0 in /usr/local/lib/python3.10/dist-packages (from cached-path<1.2.0,>=1.1.3->allennlp) (2.8.0)\n",
            "Collecting huggingface-hub>=0.0.16 (from allennlp)\n",
            "  Downloading huggingface_hub-0.10.1-py3-none-any.whl (163 kB)\n",
            "\u001b[2K     \u001b[90m━━━━━━━━━━━━━━━━━━━━━━━━━━━━━━━━━━━━━━━━\u001b[0m \u001b[32m163.5/163.5 kB\u001b[0m \u001b[31m26.2 MB/s\u001b[0m eta \u001b[36m0:00:00\u001b[0m\n",
            "\u001b[?25hRequirement already satisfied: pyyaml>=5.1 in /usr/local/lib/python3.10/dist-packages (from huggingface-hub>=0.0.16->allennlp) (6.0.1)\n",
            "Requirement already satisfied: typing-extensions>=3.7.4.3 in /usr/local/lib/python3.10/dist-packages (from huggingface-hub>=0.0.16->allennlp) (4.5.0)\n",
            "Requirement already satisfied: packaging>=20.9 in /usr/local/lib/python3.10/dist-packages (from huggingface-hub>=0.0.16->allennlp) (23.2)\n",
            "Requirement already satisfied: click in /usr/local/lib/python3.10/dist-packages (from nltk>=3.6.5->allennlp) (8.1.7)\n",
            "Requirement already satisfied: joblib in /usr/local/lib/python3.10/dist-packages (from nltk>=3.6.5->allennlp) (1.3.2)\n",
            "Requirement already satisfied: regex>=2021.8.3 in /usr/local/lib/python3.10/dist-packages (from nltk>=3.6.5->allennlp) (2023.6.3)\n",
            "Requirement already satisfied: iniconfig in /usr/local/lib/python3.10/dist-packages (from pytest>=6.2.5->allennlp) (2.0.0)\n",
            "Requirement already satisfied: pluggy<2.0,>=0.12 in /usr/local/lib/python3.10/dist-packages (from pytest>=6.2.5->allennlp) (1.3.0)\n",
            "Requirement already satisfied: exceptiongroup>=1.0.0rc8 in /usr/local/lib/python3.10/dist-packages (from pytest>=6.2.5->allennlp) (1.2.0)\n",
            "Requirement already satisfied: tomli>=1.0.0 in /usr/local/lib/python3.10/dist-packages (from pytest>=6.2.5->allennlp) (2.0.1)\n",
            "Requirement already satisfied: charset-normalizer<4,>=2 in /usr/local/lib/python3.10/dist-packages (from requests>=2.28->allennlp) (3.3.2)\n",
            "Requirement already satisfied: idna<4,>=2.5 in /usr/local/lib/python3.10/dist-packages (from requests>=2.28->allennlp) (3.6)\n",
            "Requirement already satisfied: urllib3<3,>=1.21.1 in /usr/local/lib/python3.10/dist-packages (from requests>=2.28->allennlp) (2.0.7)\n",
            "Requirement already satisfied: certifi>=2017.4.17 in /usr/local/lib/python3.10/dist-packages (from requests>=2.28->allennlp) (2023.11.17)\n",
            "Requirement already satisfied: threadpoolctl>=2.0.0 in /usr/local/lib/python3.10/dist-packages (from scikit-learn>=1.0.1->allennlp) (3.2.0)\n",
            "Requirement already satisfied: spacy-legacy<3.1.0,>=3.0.9 in /usr/local/lib/python3.10/dist-packages (from spacy<3.4,>=2.1.0->allennlp) (3.0.12)\n",
            "Requirement already satisfied: spacy-loggers<2.0.0,>=1.0.0 in /usr/local/lib/python3.10/dist-packages (from spacy<3.4,>=2.1.0->allennlp) (1.0.5)\n",
            "Requirement already satisfied: murmurhash<1.1.0,>=0.28.0 in /usr/local/lib/python3.10/dist-packages (from spacy<3.4,>=2.1.0->allennlp) (1.0.10)\n",
            "Requirement already satisfied: cymem<2.1.0,>=2.0.2 in /usr/local/lib/python3.10/dist-packages (from spacy<3.4,>=2.1.0->allennlp) (2.0.8)\n",
            "Requirement already satisfied: preshed<3.1.0,>=3.0.2 in /usr/local/lib/python3.10/dist-packages (from spacy<3.4,>=2.1.0->allennlp) (3.0.9)\n",
            "Collecting thinc<8.1.0,>=8.0.14 (from spacy<3.4,>=2.1.0->allennlp)\n",
            "  Downloading thinc-8.0.17-cp310-cp310-manylinux_2_17_x86_64.manylinux2014_x86_64.whl (659 kB)\n",
            "\u001b[2K     \u001b[90m━━━━━━━━━━━━━━━━━━━━━━━━━━━━━━━━━━━━━━━━\u001b[0m \u001b[32m659.5/659.5 kB\u001b[0m \u001b[31m66.6 MB/s\u001b[0m eta \u001b[36m0:00:00\u001b[0m\n",
            "\u001b[?25hRequirement already satisfied: blis<0.8.0,>=0.4.0 in /usr/local/lib/python3.10/dist-packages (from spacy<3.4,>=2.1.0->allennlp) (0.7.11)\n",
            "Collecting wasabi<1.1.0,>=0.9.1 (from spacy<3.4,>=2.1.0->allennlp)\n",
            "  Downloading wasabi-0.10.1-py3-none-any.whl (26 kB)\n",
            "Requirement already satisfied: srsly<3.0.0,>=2.4.3 in /usr/local/lib/python3.10/dist-packages (from spacy<3.4,>=2.1.0->allennlp) (2.4.8)\n",
            "Requirement already satisfied: catalogue<2.1.0,>=2.0.6 in /usr/local/lib/python3.10/dist-packages (from spacy<3.4,>=2.1.0->allennlp) (2.0.10)\n",
            "Collecting typer>=0.4.1 (from allennlp)\n",
            "  Downloading typer-0.4.2-py3-none-any.whl (27 kB)\n",
            "Requirement already satisfied: pathy>=0.3.5 in /usr/local/lib/python3.10/dist-packages (from spacy<3.4,>=2.1.0->allennlp) (0.10.3)\n",
            "Requirement already satisfied: smart-open<7.0.0,>=5.2.1 in /usr/local/lib/python3.10/dist-packages (from spacy<3.4,>=2.1.0->allennlp) (6.4.0)\n",
            "Collecting pydantic!=1.8,!=1.8.1,<1.9.0,>=1.7.4 (from spacy<3.4,>=2.1.0->allennlp)\n",
            "  Downloading pydantic-1.8.2-py3-none-any.whl (126 kB)\n",
            "\u001b[2K     \u001b[90m━━━━━━━━━━━━━━━━━━━━━━━━━━━━━━━━━━━━━━━━\u001b[0m \u001b[32m126.0/126.0 kB\u001b[0m \u001b[31m18.7 MB/s\u001b[0m eta \u001b[36m0:00:00\u001b[0m\n",
            "\u001b[?25hRequirement already satisfied: jinja2 in /usr/local/lib/python3.10/dist-packages (from spacy<3.4,>=2.1.0->allennlp) (3.1.2)\n",
            "Requirement already satisfied: setuptools in /usr/local/lib/python3.10/dist-packages (from spacy<3.4,>=2.1.0->allennlp) (67.7.2)\n",
            "Requirement already satisfied: langcodes<4.0.0,>=3.2.0 in /usr/local/lib/python3.10/dist-packages (from spacy<3.4,>=2.1.0->allennlp) (3.3.0)\n",
            "Requirement already satisfied: pillow!=8.3.*,>=5.3.0 in /usr/local/lib/python3.10/dist-packages (from torchvision<0.14.0,>=0.8.1->allennlp) (9.4.0)\n",
            "Collecting tokenizers!=0.11.3,<0.13,>=0.11.1 (from transformers<4.21,>=4.1->allennlp)\n",
            "  Downloading tokenizers-0.12.1-cp310-cp310-manylinux_2_12_x86_64.manylinux2010_x86_64.whl (6.6 MB)\n",
            "\u001b[2K     \u001b[90m━━━━━━━━━━━━━━━━━━━━━━━━━━━━━━━━━━━━━━━━\u001b[0m \u001b[32m6.6/6.6 MB\u001b[0m \u001b[31m28.1 MB/s\u001b[0m eta \u001b[36m0:00:00\u001b[0m\n",
            "\u001b[?25hCollecting GitPython>=1.0.0 (from wandb<0.13.0,>=0.10.0->allennlp)\n",
            "  Downloading GitPython-3.1.40-py3-none-any.whl (190 kB)\n",
            "\u001b[2K     \u001b[90m━━━━━━━━━━━━━━━━━━━━━━━━━━━━━━━━━━━━━━━━\u001b[0m \u001b[32m190.6/190.6 kB\u001b[0m \u001b[31m24.8 MB/s\u001b[0m eta \u001b[36m0:00:00\u001b[0m\n",
            "\u001b[?25hRequirement already satisfied: promise<3,>=2.0 in /usr/local/lib/python3.10/dist-packages (from wandb<0.13.0,>=0.10.0->allennlp) (2.3)\n",
            "Collecting shortuuid>=0.5.0 (from wandb<0.13.0,>=0.10.0->allennlp)\n",
            "  Downloading shortuuid-1.0.11-py3-none-any.whl (10 kB)\n",
            "Requirement already satisfied: psutil>=5.0.0 in /usr/local/lib/python3.10/dist-packages (from wandb<0.13.0,>=0.10.0->allennlp) (5.9.5)\n",
            "Collecting sentry-sdk>=1.0.0 (from wandb<0.13.0,>=0.10.0->allennlp)\n",
            "  Downloading sentry_sdk-1.39.1-py2.py3-none-any.whl (254 kB)\n",
            "\u001b[2K     \u001b[90m━━━━━━━━━━━━━━━━━━━━━━━━━━━━━━━━━━━━━━━━\u001b[0m \u001b[32m254.1/254.1 kB\u001b[0m \u001b[31m30.7 MB/s\u001b[0m eta \u001b[36m0:00:00\u001b[0m\n",
            "\u001b[?25hRequirement already satisfied: six>=1.13.0 in /usr/local/lib/python3.10/dist-packages (from wandb<0.13.0,>=0.10.0->allennlp) (1.16.0)\n",
            "Collecting docker-pycreds>=0.4.0 (from wandb<0.13.0,>=0.10.0->allennlp)\n",
            "  Downloading docker_pycreds-0.4.0-py2.py3-none-any.whl (9.0 kB)\n",
            "Collecting pathtools (from wandb<0.13.0,>=0.10.0->allennlp)\n",
            "  Downloading pathtools-0.1.2.tar.gz (11 kB)\n",
            "  Preparing metadata (setup.py) ... \u001b[?25l\u001b[?25hdone\n",
            "Collecting setproctitle (from wandb<0.13.0,>=0.10.0->allennlp)\n",
            "  Downloading setproctitle-1.3.3-cp310-cp310-manylinux_2_5_x86_64.manylinux1_x86_64.manylinux_2_17_x86_64.manylinux2014_x86_64.whl (30 kB)\n",
            "Collecting botocore<1.35.0,>=1.34.14 (from boto3<2.0,>=1.0->cached-path<1.2.0,>=1.1.3->allennlp)\n",
            "  Downloading botocore-1.34.14-py3-none-any.whl (11.9 MB)\n",
            "\u001b[2K     \u001b[90m━━━━━━━━━━━━━━━━━━━━━━━━━━━━━━━━━━━━━━━━\u001b[0m \u001b[32m11.9/11.9 MB\u001b[0m \u001b[31m108.5 MB/s\u001b[0m eta \u001b[36m0:00:00\u001b[0m\n",
            "\u001b[?25hCollecting jmespath<2.0.0,>=0.7.1 (from boto3<2.0,>=1.0->cached-path<1.2.0,>=1.1.3->allennlp)\n",
            "  Downloading jmespath-1.0.1-py3-none-any.whl (20 kB)\n",
            "Collecting s3transfer<0.11.0,>=0.10.0 (from boto3<2.0,>=1.0->cached-path<1.2.0,>=1.1.3->allennlp)\n",
            "  Downloading s3transfer-0.10.0-py3-none-any.whl (82 kB)\n",
            "\u001b[2K     \u001b[90m━━━━━━━━━━━━━━━━━━━━━━━━━━━━━━━━━━━━━━━━\u001b[0m \u001b[32m82.1/82.1 kB\u001b[0m \u001b[31m13.4 MB/s\u001b[0m eta \u001b[36m0:00:00\u001b[0m\n",
            "\u001b[?25hCollecting gitdb<5,>=4.0.1 (from GitPython>=1.0.0->wandb<0.13.0,>=0.10.0->allennlp)\n",
            "  Downloading gitdb-4.0.11-py3-none-any.whl (62 kB)\n",
            "\u001b[2K     \u001b[90m━━━━━━━━━━━━━━━━━━━━━━━━━━━━━━━━━━━━━━━━\u001b[0m \u001b[32m62.7/62.7 kB\u001b[0m \u001b[31m9.5 MB/s\u001b[0m eta \u001b[36m0:00:00\u001b[0m\n",
            "\u001b[?25hRequirement already satisfied: google-auth<3.0dev,>=1.25.0 in /usr/local/lib/python3.10/dist-packages (from google-cloud-storage<3.0,>=1.32.0->cached-path<1.2.0,>=1.1.3->allennlp) (2.17.3)\n",
            "Requirement already satisfied: google-api-core!=2.0.*,!=2.1.*,!=2.2.*,!=2.3.0,<3.0.0dev,>=1.31.5 in /usr/local/lib/python3.10/dist-packages (from google-cloud-storage<3.0,>=1.32.0->cached-path<1.2.0,>=1.1.3->allennlp) (2.11.1)\n",
            "Requirement already satisfied: google-cloud-core<3.0dev,>=2.3.0 in /usr/local/lib/python3.10/dist-packages (from google-cloud-storage<3.0,>=1.32.0->cached-path<1.2.0,>=1.1.3->allennlp) (2.3.3)\n",
            "Requirement already satisfied: google-resumable-media>=2.3.2 in /usr/local/lib/python3.10/dist-packages (from google-cloud-storage<3.0,>=1.32.0->cached-path<1.2.0,>=1.1.3->allennlp) (2.7.0)\n",
            "Collecting commonmark<0.10.0,>=0.9.0 (from rich<13.0,>=12.1->cached-path<1.2.0,>=1.1.3->allennlp)\n",
            "  Downloading commonmark-0.9.1-py2.py3-none-any.whl (51 kB)\n",
            "\u001b[2K     \u001b[90m━━━━━━━━━━━━━━━━━━━━━━━━━━━━━━━━━━━━━━━━\u001b[0m \u001b[32m51.1/51.1 kB\u001b[0m \u001b[31m8.1 MB/s\u001b[0m eta \u001b[36m0:00:00\u001b[0m\n",
            "\u001b[?25hRequirement already satisfied: pygments<3.0.0,>=2.6.0 in /usr/local/lib/python3.10/dist-packages (from rich<13.0,>=12.1->cached-path<1.2.0,>=1.1.3->allennlp) (2.16.1)\n",
            "Requirement already satisfied: MarkupSafe>=2.0 in /usr/local/lib/python3.10/dist-packages (from jinja2->spacy<3.4,>=2.1.0->allennlp) (2.1.3)\n",
            "Requirement already satisfied: python-dateutil<3.0.0,>=2.1 in /usr/local/lib/python3.10/dist-packages (from botocore<1.35.0,>=1.34.14->boto3<2.0,>=1.0->cached-path<1.2.0,>=1.1.3->allennlp) (2.8.2)\n",
            "Collecting smmap<6,>=3.0.1 (from gitdb<5,>=4.0.1->GitPython>=1.0.0->wandb<0.13.0,>=0.10.0->allennlp)\n",
            "  Downloading smmap-5.0.1-py3-none-any.whl (24 kB)\n",
            "Requirement already satisfied: googleapis-common-protos<2.0.dev0,>=1.56.2 in /usr/local/lib/python3.10/dist-packages (from google-api-core!=2.0.*,!=2.1.*,!=2.2.*,!=2.3.0,<3.0.0dev,>=1.31.5->google-cloud-storage<3.0,>=1.32.0->cached-path<1.2.0,>=1.1.3->allennlp) (1.62.0)\n",
            "Requirement already satisfied: cachetools<6.0,>=2.0.0 in /usr/local/lib/python3.10/dist-packages (from google-auth<3.0dev,>=1.25.0->google-cloud-storage<3.0,>=1.32.0->cached-path<1.2.0,>=1.1.3->allennlp) (5.3.2)\n",
            "Requirement already satisfied: pyasn1-modules>=0.2.1 in /usr/local/lib/python3.10/dist-packages (from google-auth<3.0dev,>=1.25.0->google-cloud-storage<3.0,>=1.32.0->cached-path<1.2.0,>=1.1.3->allennlp) (0.3.0)\n",
            "Requirement already satisfied: rsa<5,>=3.1.4 in /usr/local/lib/python3.10/dist-packages (from google-auth<3.0dev,>=1.25.0->google-cloud-storage<3.0,>=1.32.0->cached-path<1.2.0,>=1.1.3->allennlp) (4.9)\n",
            "Requirement already satisfied: google-crc32c<2.0dev,>=1.0 in /usr/local/lib/python3.10/dist-packages (from google-resumable-media>=2.3.2->google-cloud-storage<3.0,>=1.32.0->cached-path<1.2.0,>=1.1.3->allennlp) (1.5.0)\n",
            "Requirement already satisfied: pyasn1<0.6.0,>=0.4.6 in /usr/local/lib/python3.10/dist-packages (from pyasn1-modules>=0.2.1->google-auth<3.0dev,>=1.25.0->google-cloud-storage<3.0,>=1.32.0->cached-path<1.2.0,>=1.1.3->allennlp) (0.5.1)\n",
            "Building wheels for collected packages: fairscale, termcolor, jsonnet, pathtools\n",
            "  Building wheel for fairscale (pyproject.toml) ... \u001b[?25l\u001b[?25hdone\n",
            "  Created wheel for fairscale: filename=fairscale-0.4.6-py3-none-any.whl size=307222 sha256=1396326090a9f80a76b0f2841368e418163c23e03fa115b6d079dbd0d6a9c632\n",
            "  Stored in directory: /root/.cache/pip/wheels/a1/58/3d/e114952ab4a8f31eb9dae230658450afff986b211a5b1f2256\n",
            "  Building wheel for termcolor (setup.py) ... \u001b[?25l\u001b[?25hdone\n",
            "  Created wheel for termcolor: filename=termcolor-1.1.0-py3-none-any.whl size=4832 sha256=6d38d19de98fc653f3892a722b09bb9350924e52cce3a78150f659a406c1e831\n",
            "  Stored in directory: /root/.cache/pip/wheels/a1/49/46/1b13a65d8da11238af9616b00fdde6d45b0f95d9291bac8452\n"
          ]
        }
      ],
      "source": [
        "import pandas as pd\n",
        "import zipfile\n",
        "import os\n",
        "\n",
        "# Download the raw files from GitHub\n",
        "!wget https://github.com/richi1998/NLP-Project/raw/main/ner_dataset.csv.zip -O ner_dataset.csv.zip\n",
        "\n",
        "\n",
        "\n",
        "with zipfile.ZipFile('ner_dataset.csv.zip', 'r') as zip_ref:\n",
        "    zip_ref.extractall()\n",
        "\n",
        "# Check what files are in the directory\n",
        "print(\"Files in the current directory:\", os.listdir())\n",
        "\n",
        "!pip install allennlp\n",
        "\n"
      ]
    },
    {
      "cell_type": "code",
      "execution_count": null,
      "metadata": {
        "colab": {
          "base_uri": "https://localhost:8080/"
        },
        "id": "_RCyloAto84K",
        "outputId": "4a710b98-605e-4f12-a5f5-568094cce6c1"
      },
      "outputs": [
        {
          "output_type": "stream",
          "name": "stdout",
          "text": [
            "\n",
            "Second dataset:\n",
            "    Sentence #           Word  POS Tag\n",
            "0  Sentence: 1      Thousands  NNS   O\n",
            "1  Sentence: 1             of   IN   O\n",
            "2  Sentence: 1  demonstrators  NNS   O\n",
            "3  Sentence: 1           have  VBP   O\n",
            "4  Sentence: 1        marched  VBN   O\n",
            "Number of different tags in dataset and their names:\n",
            "17\n",
            "I-eve\n",
            "I-nat\n",
            "I-geo\n",
            "I-art\n",
            "B-art\n",
            "I-per\n",
            "B-geo\n",
            "B-org\n",
            "O\n",
            "I-gpe\n",
            "I-tim\n",
            "B-nat\n",
            "B-per\n",
            "B-tim\n",
            "B-eve\n",
            "B-gpe\n",
            "I-org\n"
          ]
        }
      ],
      "source": [
        "import pandas as pd\n",
        "\n",
        "# Read the CSV files\n",
        "# Replace 'file_name.csv' with the actual names of the extracted files\n",
        "\n",
        "# df1 = pd.read_csv('ner.csv', error_bad_lines=False,  encoding='latin1')  # Adjust encoding if necessary\n",
        "# df1 = df1.fillna(method='ffill')\n",
        "df2 = pd.read_csv('ner_dataset.csv', encoding='latin1')  # Adjust encoding if necessary\n",
        "df2 = df2.fillna(method='ffill')\n",
        "\n",
        "# # Display the first few rows of the datasets\n",
        "# print(\"First dataset:\")\n",
        "# print(df1.head())\n",
        "print(\"\\nSecond dataset:\")\n",
        "print(df2.head(5))\n",
        "tags = list(set(df2['Tag'].values))#iob2 tags\n",
        "num_tags = len(tags)\n",
        "print(\"Number of different tags in dataset and their names:\")\n",
        "print(num_tags)\n",
        "tag2idx = {t: i for i, t in enumerate(tags)}\n",
        "print(*tag2idx, sep='\\n')"
      ]
    },
    {
      "cell_type": "code",
      "execution_count": null,
      "metadata": {
        "colab": {
          "base_uri": "https://localhost:8080/"
        },
        "id": "VbUNK_Sxwz-8",
        "outputId": "fab960d5-25cb-4552-996e-b0f92a57a2f9"
      },
      "outputs": [
        {
          "output_type": "stream",
          "name": "stdout",
          "text": [
            "fatal: destination path 'NLP-Project' already exists and is not an empty directory.\n",
            "/content/NLP-Project\n"
          ]
        }
      ],
      "source": [
        "!git clone https://github.com/richi1998/NLP-Project.git\n",
        "\n",
        "%cd NLP-Project\n",
        "import scrip_NER_NLP_project"
      ]
    },
    {
      "cell_type": "markdown",
      "metadata": {
        "id": "5aTM181kdJOn"
      },
      "source": [
        "We get the helper Python file and the files containing the training and validation data."
      ]
    },
    {
      "cell_type": "code",
      "execution_count": null,
      "metadata": {
        "colab": {
          "base_uri": "https://localhost:8080/"
        },
        "id": "-Bq5e7PBcrTO",
        "outputId": "c01f75fe-d52e-474e-feac-5cca6f39618a"
      },
      "outputs": [
        {
          "output_type": "stream",
          "name": "stdout",
          "text": [
            "Training set shape: (838860, 4)\n",
            "Validation set shape: (209715, 4)\n"
          ]
        }
      ],
      "source": [
        "from sklearn.model_selection import train_test_split\n",
        "\n",
        "\n",
        "train_df, val_df = train_test_split(df2, test_size=0.2, random_state=42, shuffle= False)\n",
        "\n",
        "# Display the shape of the training and validation sets\n",
        "print(\"Training set shape:\", train_df.shape)\n",
        "print(\"Validation set shape:\", val_df.shape)\n"
      ]
    },
    {
      "cell_type": "code",
      "execution_count": null,
      "metadata": {
        "id": "xee1N8iuBXiu"
      },
      "outputs": [],
      "source": [
        "Xtrain, Ytrain = scrip_NER_NLP_project.read_data_from_dataframe(train_df)\n",
        "Xval, Yval = scrip_NER_NLP_project.read_data_from_dataframe(val_df)"
      ]
    },
    {
      "cell_type": "code",
      "execution_count": null,
      "metadata": {
        "colab": {
          "base_uri": "https://localhost:8080/"
        },
        "id": "ZL58KjVoGffZ",
        "outputId": "de65ed4e-b4c0-4b1d-edea-d20b36b4ed08"
      },
      "outputs": [
        {
          "output_type": "execute_result",
          "data": {
            "text/plain": [
              "['The',\n",
              " 'United',\n",
              " 'Nations',\n",
              " 'is',\n",
              " 'praising',\n",
              " 'the',\n",
              " 'use',\n",
              " 'of',\n",
              " 'military',\n",
              " 'helicopters',\n",
              " 'to',\n",
              " 'drop',\n",
              " 'food',\n",
              " 'and',\n",
              " 'rescue',\n",
              " 'survivors',\n",
              " 'in',\n",
              " 'tsunami-ravaged',\n",
              " 'Indonesia',\n",
              " ',',\n",
              " 'saying',\n",
              " 'the',\n",
              " 'aircraft',\n",
              " 'are',\n",
              " '\"',\n",
              " 'worth',\n",
              " 'their',\n",
              " 'weight',\n",
              " 'in',\n",
              " 'gold',\n",
              " '.',\n",
              " '\"']"
            ]
          },
          "metadata": {},
          "execution_count": 6
        }
      ],
      "source": [
        "Xtrain[38345]"
      ]
    },
    {
      "cell_type": "code",
      "execution_count": null,
      "metadata": {
        "colab": {
          "base_uri": "https://localhost:8080/"
        },
        "id": "aQEZ-QdMGklV",
        "outputId": "256968d5-42e7-44cc-a802-a31803a9c303"
      },
      "outputs": [
        {
          "output_type": "execute_result",
          "data": {
            "text/plain": [
              "['O',\n",
              " 'B-org',\n",
              " 'I-org',\n",
              " 'O',\n",
              " 'O',\n",
              " 'O',\n",
              " 'O',\n",
              " 'O',\n",
              " 'O',\n",
              " 'O',\n",
              " 'O',\n",
              " 'O',\n",
              " 'O',\n",
              " 'O',\n",
              " 'O',\n",
              " 'O',\n",
              " 'O',\n",
              " 'B-tim',\n",
              " 'I-tim',\n",
              " 'O',\n",
              " 'O',\n",
              " 'O',\n",
              " 'O',\n",
              " 'O',\n",
              " 'O',\n",
              " 'O',\n",
              " 'O',\n",
              " 'O',\n",
              " 'O',\n",
              " 'O',\n",
              " 'O',\n",
              " 'O']"
            ]
          },
          "metadata": {},
          "execution_count": 7
        }
      ],
      "source": [
        "Ytrain[38345]"
      ]
    },
    {
      "cell_type": "markdown",
      "metadata": {
        "id": "cGv45ph3ceCK"
      },
      "source": [
        "## Baseline sequence labeling model\n",
        "\n",
        "This is the baseline model. You can expand on this when implementing your solution."
      ]
    },
    {
      "cell_type": "code",
      "execution_count": null,
      "metadata": {
        "id": "601e9y36ceCM"
      },
      "outputs": [],
      "source": [
        "import torch\n",
        "from torch import nn\n",
        "\n",
        "class BaselineSequenceModel(nn.Module):\n",
        "\n",
        "    def __init__(self, seq_labeler):\n",
        "        super().__init__()\n",
        "\n",
        "        # Here is how you access the NERParameters.\n",
        "        p = seq_labeler.params\n",
        "\n",
        "        # The model consists of just a word embedding layer and a\n",
        "        # linear output unit. We use the vocabulary to create the embedding layer.\n",
        "        self.word_embedding = seq_labeler.word_voc.make_embedding_layer(finetune=p.finetune_word_emb,\n",
        "                                                                        emb_dim=p.word_emb_dim)\n",
        "\n",
        "        # The dimensionality of the word embedding model.\n",
        "        word_emb_dim = self.word_embedding.weight.shape[1]\n",
        "\n",
        "        # Output unit.\n",
        "        self.top_layer = nn.Linear(word_emb_dim, seq_labeler.n_labels)\n",
        "\n",
        "    def forward(self, words):\n",
        "        # words is a tensor of integer-encoded words, with shape (batch_size, max_sen_length)\n",
        "\n",
        "        # After embedding the words, the shape is (batch_size, max_sen_length, emb_dim).\n",
        "        word_repr = self.word_embedding(words)\n",
        "\n",
        "        # We predict the BIO label simply by applying a linear model to\n",
        "        # the word embedding at that position.\n",
        "\n",
        "        # The shape of the output is (batch_size, max_sen_length, n_labels),\n",
        "        # where n_labels is the size of the output label vocabulary.\n",
        "        return self.top_layer(word_repr)"
      ]
    },
    {
      "cell_type": "markdown",
      "metadata": {
        "id": "HuEUULDlceCR"
      },
      "source": [
        "## Training the system\n",
        "\n",
        "As usual, we create an object that contains all hyperparameters."
      ]
    },
    {
      "cell_type": "code",
      "execution_count": null,
      "metadata": {
        "id": "zFDmKMrOceCS"
      },
      "outputs": [],
      "source": [
        "class NERParameters:\n",
        "\n",
        "    # Random seed, for reproducibility.\n",
        "    random_seed = 0\n",
        "\n",
        "    bert_max_len = 128\n",
        "    # cuda or cpu\n",
        "    device = 'cuda'\n",
        "\n",
        "    # NB: this hyperparameter is only used if we are training the embedding\n",
        "    # model from scratch.\n",
        "    word_emb_dim = 128\n",
        "\n",
        "    # Whether or not to fine-tune the word embedding model.\n",
        "    finetune_word_emb = False\n",
        "\n",
        "    # Training parameters\n",
        "    n_epochs = 20\n",
        "    batch_size = 32\n",
        "    learning_rate = 0.005\n",
        "    weight_decay = 0\n",
        "\n",
        "    # Word dropout rate.\n",
        "    word_dropout_prob = 0.0\n",
        "\n",
        "    # Set the following to True to enable character tensors.\n",
        "    use_characters = False"
      ]
    },
    {
      "cell_type": "markdown",
      "metadata": {
        "id": "U5L2M1JcceCT"
      },
      "source": [
        "Now, we are ready to train. When creating the NER system, the first argument should be the hyperparameter container. The second should be a function that builds the neural network; we just use the constructor of the class we defined above."
      ]
    },
    {
      "cell_type": "code",
      "execution_count": null,
      "metadata": {
        "colab": {
          "base_uri": "https://localhost:8080/"
        },
        "id": "Yw2LdGMBceCU",
        "outputId": "f7139518-6a1d-4a0a-b350-2c554f997f3f"
      },
      "outputs": [
        {
          "output_type": "stream",
          "name": "stdout",
          "text": [
            "Epoch 1: train loss = 0.8413, val f1: 0.2539, time = 4.3603\n",
            "Epoch 2: train loss = 0.5625, val f1: 0.2636, time = 5.5148\n",
            "Epoch 3: train loss = 0.5554, val f1: 0.2519, time = 5.0698\n",
            "Epoch 4: train loss = 0.5533, val f1: 0.2602, time = 2.2058\n",
            "Epoch 5: train loss = 0.5521, val f1: 0.2495, time = 2.0481\n",
            "Epoch 6: train loss = 0.5518, val f1: 0.2625, time = 2.4813\n",
            "Epoch 7: train loss = 0.5516, val f1: 0.2689, time = 2.4477\n",
            "Epoch 8: train loss = 0.5512, val f1: 0.2463, time = 3.5546\n",
            "Epoch 9: train loss = 0.5515, val f1: 0.2742, time = 3.8011\n",
            "Epoch 10: train loss = 0.5511, val f1: 0.2680, time = 2.0507\n",
            "Epoch 11: train loss = 0.5514, val f1: 0.2570, time = 2.7344\n",
            "Epoch 12: train loss = 0.5509, val f1: 0.2217, time = 2.1228\n",
            "Epoch 13: train loss = 0.5511, val f1: 0.2509, time = 2.0706\n",
            "Epoch 14: train loss = 0.5511, val f1: 0.2535, time = 2.0883\n",
            "Epoch 15: train loss = 0.5512, val f1: 0.2614, time = 2.0991\n",
            "Epoch 16: train loss = 0.5513, val f1: 0.2739, time = 2.1308\n",
            "Epoch 17: train loss = 0.5512, val f1: 0.2365, time = 2.7095\n",
            "Epoch 18: train loss = 0.5510, val f1: 0.2567, time = 2.0626\n",
            "Epoch 19: train loss = 0.5508, val f1: 0.2354, time = 2.0575\n",
            "Epoch 20: train loss = 0.5511, val f1: 0.2464, time = 2.0613\n",
            "\n",
            "Final evaluation on the validation set:\n",
            "Overall: P = 0.5994, R = 0.1551, F1 = 0.2464\n",
            "org : P = 0.2298, R = 0.0091, F1 = 0.0174\n",
            "tim : P = 0.7456, R = 0.1939, F1 = 0.3078\n",
            "geo : P = 0.6457, R = 0.1847, F1 = 0.2872\n",
            "per : P = 0.0928, R = 0.0304, F1 = 0.0458\n",
            "gpe : P = 0.8760, R = 0.3527, F1 = 0.5029\n",
            "art : P = 0.0000, R = 0.0000, F1 = 0.0000\n",
            "nat : P = 0.4000, R = 0.2917, F1 = 0.3373\n",
            "eve : P = 0.0000, R = 0.0000, F1 = 0.0000\n"
          ]
        },
        {
          "output_type": "execute_result",
          "data": {
            "text/plain": [
              "0.27423521414004076"
            ]
          },
          "metadata": {},
          "execution_count": 10
        }
      ],
      "source": [
        "\n",
        "ner_system = scrip_NER_NLP_project.SequenceLabeler(NERParameters(), BaselineSequenceModel)\n",
        "ner_system.fit(Xtrain, Ytrain, Xval, Yval)"
      ]
    },
    {
      "cell_type": "markdown",
      "metadata": {
        "id": "SCS6Jn_4ceCV"
      },
      "source": [
        "Optionally, plot the training loss and validation F-score over the epochs."
      ]
    },
    {
      "cell_type": "code",
      "execution_count": null,
      "metadata": {
        "colab": {
          "base_uri": "https://localhost:8080/",
          "height": 617
        },
        "id": "mkvPF53fceCW",
        "outputId": "45afbdf3-836e-4d03-ecab-de9673f335a4"
      },
      "outputs": [
        {
          "output_type": "stream",
          "name": "stderr",
          "text": [
            "<ipython-input-11-e3fcbd9098f3>:4: MatplotlibDeprecationWarning: The seaborn styles shipped by Matplotlib are deprecated since 3.6, as they no longer correspond to the styles shipped by seaborn. However, they will remain available as 'seaborn-v0_8-<style>'. Alternatively, directly use the seaborn API instead.\n",
            "  plt.style.use('seaborn')\n"
          ]
        },
        {
          "output_type": "execute_result",
          "data": {
            "text/plain": [
              "Text(0.5, 1.0, 'Validation F-score')"
            ]
          },
          "metadata": {},
          "execution_count": 11
        },
        {
          "output_type": "display_data",
          "data": {
            "text/plain": [
              "<Figure size 1200x600 with 2 Axes>"
            ],
            "image/png": "[encoded data removed]"
          },
          "metadata": {
            "image/png": {
              "width": 986,
              "height": 525
            }
          }
        }
      ],
      "source": [
        "import matplotlib.pyplot as plt\n",
        "\n",
        "%config InlineBackend.figure_format = 'retina'\n",
        "plt.style.use('seaborn')\n",
        "\n",
        "fig, ax = plt.subplots(1, 2, figsize=(2*6,1*6))\n",
        "ax[0].plot(ner_system.history['train_loss']);\n",
        "ax[0].set_title('Training loss')\n",
        "ax[1].plot(ner_system.history['val_f1']);\n",
        "ax[1].set_title('Validation F-score')"
      ]
    },
    {
      "cell_type": "markdown",
      "metadata": {
        "id": "koYR9VfsceCX"
      },
      "source": [
        "Predicting outputs:"
      ]
    },
    {
      "cell_type": "code",
      "execution_count": null,
      "metadata": {
        "colab": {
          "base_uri": "https://localhost:8080/"
        },
        "id": "gE_Qm1EsceCX",
        "outputId": "3a9e6568-5325-457d-d43b-ebd51f1836fe"
      },
      "outputs": [
        {
          "output_type": "execute_result",
          "data": {
            "text/plain": [
              "[['O', 'O', 'O', 'O', 'O', 'O', 'O', 'O', 'O']]"
            ]
          },
          "metadata": {},
          "execution_count": 12
        }
      ],
      "source": [
        "tokens = 'The patient suffered from bubonic plague and COVID-19 .'.split()\n",
        "ner_system.predict([tokens])\n"
      ]
    },
    {
      "cell_type": "code",
      "execution_count": null,
      "metadata": {
        "colab": {
          "base_uri": "https://localhost:8080/",
          "height": 48
        },
        "id": "HEMn3Ka6ceCY",
        "outputId": "d6c01ace-39e9-4534-e65f-eae52701f04d"
      },
      "outputs": [
        {
          "output_type": "display_data",
          "data": {
            "text/plain": [
              "<IPython.core.display.HTML object>"
            ],
            "text/html": [
              "<div style=\"font-size:150%; line-height: 150%;\"><div> The patient suffered from bubonic plague and COVID-19 .</div></div>"
            ]
          },
          "metadata": {}
        }
      ],
      "source": [
        "scrip_NER_NLP_project.show_entities(ner_system, [tokens])"
      ]
    },
    {
      "cell_type": "markdown",
      "metadata": {
        "id": "YcvP1yhITX3a"
      },
      "source": [
        "### 1. Adding an RNN to the sentence encoder"
      ]
    },
    {
      "cell_type": "code",
      "execution_count": null,
      "metadata": {
        "id": "h5AHdLbdTBdI"
      },
      "outputs": [],
      "source": [
        "import torch\n",
        "from torch import nn\n",
        "\n",
        "class LTSMModel(nn.Module):\n",
        "\n",
        "    def __init__(self, seq_labeler):\n",
        "        super().__init__()\n",
        "        p = seq_labeler.params\n",
        "        self.word_embedding = seq_labeler.word_voc.make_embedding_layer(finetune=p.finetune_word_emb,\n",
        "                                                                        emb_dim=p.word_emb_dim)\n",
        "        word_emb_dim = self.word_embedding.weight.shape[1]\n",
        "        self.ltsm = nn.LSTM(input_size=word_emb_dim, hidden_size=64,\n",
        "                           num_layers=2, batch_first=True,\n",
        "                           bidirectional=True)\n",
        "        self.top_layer = nn.Linear(128, seq_labeler.n_labels)\n",
        "\n",
        "    def forward(self, words):\n",
        "        word_repr = self.word_embedding(words)\n",
        "\n",
        "        x, _ = self.ltsm(word_repr)\n",
        "        return self.top_layer(x)"
      ]
    },
    {
      "cell_type": "code",
      "execution_count": null,
      "metadata": {
        "colab": {
          "base_uri": "https://localhost:8080/"
        },
        "id": "CxEQEv4cSfk6",
        "outputId": "9b21fa3b-7f5c-495e-f9a8-faacb417a9f5"
      },
      "outputs": [
        {
          "output_type": "stream",
          "name": "stdout",
          "text": [
            "Epoch 1: train loss = 0.2275, val f1: 0.7573, time = 12.9343\n",
            "Epoch 2: train loss = 0.1186, val f1: 0.7713, time = 13.8695\n",
            "Epoch 3: train loss = 0.0982, val f1: 0.7806, time = 12.8019\n",
            "Epoch 4: train loss = 0.0865, val f1: 0.7815, time = 13.4534\n",
            "Epoch 5: train loss = 0.0780, val f1: 0.7759, time = 12.8688\n",
            "Epoch 6: train loss = 0.0722, val f1: 0.7815, time = 12.8453\n",
            "Epoch 7: train loss = 0.0665, val f1: 0.7769, time = 12.8545\n",
            "Epoch 8: train loss = 0.0627, val f1: 0.7807, time = 12.8444\n",
            "Epoch 9: train loss = 0.0586, val f1: 0.7820, time = 12.8636\n",
            "Epoch 10: train loss = 0.0555, val f1: 0.7783, time = 12.7935\n",
            "Epoch 11: train loss = 0.0531, val f1: 0.7857, time = 12.9863\n",
            "Epoch 12: train loss = 0.0509, val f1: 0.7759, time = 12.7945\n",
            "Epoch 13: train loss = 0.0491, val f1: 0.7759, time = 12.9137\n",
            "Epoch 14: train loss = 0.0475, val f1: 0.7755, time = 12.9658\n",
            "Epoch 15: train loss = 0.0463, val f1: 0.7727, time = 12.8149\n",
            "Epoch 16: train loss = 0.0447, val f1: 0.7727, time = 12.9344\n",
            "Epoch 17: train loss = 0.0437, val f1: 0.7771, time = 12.8156\n",
            "Epoch 18: train loss = 0.0425, val f1: 0.7711, time = 12.8501\n",
            "Epoch 19: train loss = 0.0431, val f1: 0.7696, time = 12.8324\n",
            "Epoch 20: train loss = 0.0409, val f1: 0.7702, time = 12.7617\n",
            "\n",
            "Final evaluation on the validation set:\n",
            "Overall: P = 0.7821, R = 0.7587, F1 = 0.7702\n",
            "org : P = 0.6359, R = 0.6081, F1 = 0.6217\n",
            "tim : P = 0.8328, R = 0.8204, F1 = 0.8266\n",
            "geo : P = 0.8364, R = 0.8235, F1 = 0.8299\n",
            "per : P = 0.6274, R = 0.5890, F1 = 0.6076\n",
            "gpe : P = 0.9487, R = 0.9226, F1 = 0.9355\n",
            "art : P = 0.0536, R = 0.0366, F1 = 0.0435\n",
            "nat : P = 0.4773, R = 0.4375, F1 = 0.4565\n",
            "eve : P = 0.2600, R = 0.2826, F1 = 0.2708\n"
          ]
        },
        {
          "output_type": "execute_result",
          "data": {
            "text/plain": [
              "0.785680534617375"
            ]
          },
          "metadata": {},
          "execution_count": 15
        }
      ],
      "source": [
        "ner_system = scrip_NER_NLP_project.SequenceLabeler(NERParameters(), LTSMModel)\n",
        "ner_system.fit(Xtrain, Ytrain, Xval, Yval)"
      ]
    },
    {
      "cell_type": "markdown",
      "metadata": {
        "id": "nLkgQjBpSf74"
      },
      "source": [
        "### 2. Investigating the word embedding model"
      ]
    },
    {
      "cell_type": "code",
      "execution_count": null,
      "metadata": {
        "id": "ybspGT8DSlpC"
      },
      "outputs": [],
      "source": [
        "def f1_score_over_5_runs(ner_system):\n",
        "  f1_scores = list()\n",
        "  for i in range(5):\n",
        "    f1 = ner_system.fit(Xtrain, Ytrain, Xval, Yval)\n",
        "    ner_system.params.random_seed += 1\n",
        "    f1_scores.append(f1)\n",
        "  average_f1_score = sum(f1_scores)/5\n",
        "  print('Average F1-Score: %s' % average_f1_score)\n",
        "  return average_f1_score"
      ]
    },
    {
      "cell_type": "code",
      "execution_count": null,
      "metadata": {
        "colab": {
          "base_uri": "https://localhost:8080/"
        },
        "id": "9YoybE-RSuj3",
        "outputId": "6ba71328-9578-4acb-f40f-703b8fc7b6d4"
      },
      "outputs": [
        {
          "output_type": "stream",
          "name": "stdout",
          "text": [
            "Epoch 1: train loss = 0.2275, val f1: 0.7572, time = 13.1233\n",
            "Epoch 2: train loss = 0.1187, val f1: 0.7699, time = 12.7881\n",
            "Epoch 3: train loss = 0.0986, val f1: 0.7809, time = 12.9170\n",
            "Epoch 4: train loss = 0.0870, val f1: 0.7814, time = 12.8984\n",
            "Epoch 5: train loss = 0.0780, val f1: 0.7835, time = 13.1534\n",
            "Epoch 6: train loss = 0.0711, val f1: 0.7792, time = 13.4271\n",
            "Epoch 7: train loss = 0.0670, val f1: 0.7814, time = 13.4152\n",
            "Epoch 8: train loss = 0.0621, val f1: 0.7785, time = 12.8627\n",
            "Epoch 9: train loss = 0.0583, val f1: 0.7830, time = 12.8568\n",
            "Epoch 10: train loss = 0.0565, val f1: 0.7754, time = 12.8136\n",
            "Epoch 11: train loss = 0.0533, val f1: 0.7809, time = 12.8150\n",
            "Epoch 12: train loss = 0.0505, val f1: 0.7807, time = 12.9224\n",
            "Epoch 13: train loss = 0.0486, val f1: 0.7776, time = 12.8922\n",
            "Epoch 14: train loss = 0.0469, val f1: 0.7762, time = 12.8961\n",
            "Epoch 15: train loss = 0.0463, val f1: 0.7742, time = 13.0015\n",
            "Epoch 16: train loss = 0.0443, val f1: 0.7804, time = 12.8858\n",
            "Epoch 17: train loss = 0.0432, val f1: 0.7765, time = 12.9392\n",
            "Epoch 18: train loss = 0.0427, val f1: 0.7759, time = 12.8009\n",
            "Epoch 19: train loss = 0.0413, val f1: 0.7727, time = 12.8980\n",
            "Epoch 20: train loss = 0.0407, val f1: 0.7738, time = 12.8152\n",
            "\n",
            "Final evaluation on the validation set:\n",
            "Overall: P = 0.7781, R = 0.7695, F1 = 0.7738\n",
            "org : P = 0.6327, R = 0.6020, F1 = 0.6170\n",
            "tim : P = 0.8408, R = 0.8170, F1 = 0.8287\n",
            "geo : P = 0.8408, R = 0.8252, F1 = 0.8329\n",
            "per : P = 0.6150, R = 0.6637, F1 = 0.6384\n",
            "gpe : P = 0.9323, R = 0.9297, F1 = 0.9310\n",
            "art : P = 0.0435, R = 0.0244, F1 = 0.0313\n",
            "nat : P = 0.4750, R = 0.3958, F1 = 0.4318\n",
            "eve : P = 0.3571, R = 0.3261, F1 = 0.3409\n",
            "Epoch 1: train loss = 0.2238, val f1: 0.7562, time = 12.8261\n",
            "Epoch 2: train loss = 0.1188, val f1: 0.7742, time = 12.8996\n",
            "Epoch 3: train loss = 0.0976, val f1: 0.7802, time = 12.9151\n",
            "Epoch 4: train loss = 0.0860, val f1: 0.7829, time = 12.9219\n",
            "Epoch 5: train loss = 0.0778, val f1: 0.7749, time = 12.9079\n",
            "Epoch 6: train loss = 0.0717, val f1: 0.7858, time = 12.9095\n",
            "Epoch 7: train loss = 0.0658, val f1: 0.7809, time = 12.9016\n",
            "Epoch 8: train loss = 0.0623, val f1: 0.7811, time = 12.8636\n",
            "Epoch 9: train loss = 0.0587, val f1: 0.7771, time = 12.9034\n",
            "Epoch 10: train loss = 0.0556, val f1: 0.7831, time = 12.8233\n",
            "Epoch 11: train loss = 0.0530, val f1: 0.7795, time = 12.8896\n",
            "Epoch 12: train loss = 0.0508, val f1: 0.7793, time = 12.7442\n",
            "Epoch 13: train loss = 0.0482, val f1: 0.7707, time = 12.8901\n",
            "Epoch 14: train loss = 0.0471, val f1: 0.7783, time = 12.8690\n",
            "Epoch 15: train loss = 0.0467, val f1: 0.7777, time = 12.8190\n",
            "Epoch 16: train loss = 0.0447, val f1: 0.7752, time = 12.8908\n",
            "Epoch 17: train loss = 0.0437, val f1: 0.7768, time = 14.2491\n",
            "Epoch 18: train loss = 0.0434, val f1: 0.7779, time = 13.0030\n",
            "Epoch 19: train loss = 0.0423, val f1: 0.7748, time = 13.0101\n",
            "Epoch 20: train loss = 0.0407, val f1: 0.7716, time = 12.9258\n",
            "\n",
            "Final evaluation on the validation set:\n",
            "Overall: P = 0.7812, R = 0.7623, F1 = 0.7716\n",
            "org : P = 0.6361, R = 0.5998, F1 = 0.6174\n",
            "tim : P = 0.8360, R = 0.8209, F1 = 0.8284\n",
            "geo : P = 0.8397, R = 0.8321, F1 = 0.8359\n",
            "per : P = 0.6266, R = 0.6104, F1 = 0.6184\n",
            "gpe : P = 0.9467, R = 0.9152, F1 = 0.9307\n",
            "art : P = 0.0442, R = 0.0610, F1 = 0.0513\n",
            "nat : P = 0.5000, R = 0.3958, F1 = 0.4419\n",
            "eve : P = 0.2708, R = 0.2826, F1 = 0.2766\n",
            "Epoch 1: train loss = 0.2260, val f1: 0.7543, time = 13.8165\n",
            "Epoch 2: train loss = 0.1191, val f1: 0.7698, time = 12.8055\n",
            "Epoch 3: train loss = 0.0981, val f1: 0.7798, time = 12.9744\n",
            "Epoch 4: train loss = 0.0862, val f1: 0.7779, time = 12.9365\n",
            "Epoch 5: train loss = 0.0779, val f1: 0.7791, time = 12.9582\n",
            "Epoch 6: train loss = 0.0717, val f1: 0.7759, time = 12.9337\n",
            "Epoch 7: train loss = 0.0671, val f1: 0.7743, time = 12.9777\n",
            "Epoch 8: train loss = 0.0622, val f1: 0.7745, time = 12.8343\n",
            "Epoch 9: train loss = 0.0590, val f1: 0.7762, time = 12.9378\n",
            "Epoch 10: train loss = 0.0562, val f1: 0.7756, time = 12.9188\n",
            "Epoch 11: train loss = 0.0539, val f1: 0.7787, time = 12.9151\n",
            "Epoch 12: train loss = 0.0515, val f1: 0.7672, time = 12.9050\n",
            "Epoch 13: train loss = 0.0489, val f1: 0.7745, time = 12.9248\n",
            "Epoch 14: train loss = 0.0471, val f1: 0.7753, time = 13.0299\n",
            "Epoch 15: train loss = 0.0463, val f1: 0.7659, time = 12.9106\n",
            "Epoch 16: train loss = 0.0455, val f1: 0.7680, time = 12.9356\n",
            "Epoch 17: train loss = 0.0433, val f1: 0.7676, time = 12.9365\n",
            "Epoch 18: train loss = 0.0429, val f1: 0.7661, time = 13.0154\n",
            "Epoch 19: train loss = 0.0431, val f1: 0.7659, time = 12.9725\n",
            "Epoch 20: train loss = 0.0414, val f1: 0.7698, time = 12.9806\n",
            "\n",
            "Final evaluation on the validation set:\n",
            "Overall: P = 0.7683, R = 0.7713, F1 = 0.7698\n",
            "org : P = 0.6319, R = 0.5844, F1 = 0.6072\n",
            "tim : P = 0.8141, R = 0.8217, F1 = 0.8179\n",
            "geo : P = 0.8062, R = 0.8521, F1 = 0.8285\n",
            "per : P = 0.6372, R = 0.6384, F1 = 0.6378\n",
            "gpe : P = 0.9525, R = 0.9220, F1 = 0.9370\n",
            "art : P = 0.0192, R = 0.0244, F1 = 0.0215\n",
            "nat : P = 0.5000, R = 0.4167, F1 = 0.4545\n",
            "eve : P = 0.2203, R = 0.2826, F1 = 0.2476\n",
            "Epoch 1: train loss = 0.2275, val f1: 0.7585, time = 12.9854\n",
            "Epoch 2: train loss = 0.1181, val f1: 0.7772, time = 13.0546\n",
            "Epoch 3: train loss = 0.0970, val f1: 0.7827, time = 13.1892\n",
            "Epoch 4: train loss = 0.0854, val f1: 0.7768, time = 13.0473\n",
            "Epoch 5: train loss = 0.0772, val f1: 0.7754, time = 13.1137\n",
            "Epoch 6: train loss = 0.0709, val f1: 0.7803, time = 13.0281\n",
            "Epoch 7: train loss = 0.0658, val f1: 0.7853, time = 13.2204\n",
            "Epoch 8: train loss = 0.0618, val f1: 0.7816, time = 13.1017\n",
            "Epoch 9: train loss = 0.0584, val f1: 0.7817, time = 13.1217\n",
            "Epoch 10: train loss = 0.0555, val f1: 0.7740, time = 13.1611\n",
            "Epoch 11: train loss = 0.0529, val f1: 0.7772, time = 13.1907\n",
            "Epoch 12: train loss = 0.0520, val f1: 0.7779, time = 13.0480\n",
            "Epoch 13: train loss = 0.0487, val f1: 0.7808, time = 13.0530\n",
            "Epoch 14: train loss = 0.0472, val f1: 0.7706, time = 13.0793\n",
            "Epoch 15: train loss = 0.0461, val f1: 0.7769, time = 13.0647\n",
            "Epoch 16: train loss = 0.0441, val f1: 0.7709, time = 13.0581\n",
            "Epoch 17: train loss = 0.0435, val f1: 0.7743, time = 13.0748\n",
            "Epoch 18: train loss = 0.0415, val f1: 0.7703, time = 13.0082\n",
            "Epoch 19: train loss = 0.0412, val f1: 0.7690, time = 13.1299\n",
            "Epoch 20: train loss = 0.0411, val f1: 0.7690, time = 12.9719\n",
            "\n",
            "Final evaluation on the validation set:\n",
            "Overall: P = 0.7707, R = 0.7674, F1 = 0.7690\n",
            "org : P = 0.6061, R = 0.6030, F1 = 0.6045\n",
            "tim : P = 0.8403, R = 0.8141, F1 = 0.8270\n",
            "geo : P = 0.8229, R = 0.8267, F1 = 0.8248\n",
            "per : P = 0.6560, R = 0.6414, F1 = 0.6486\n",
            "gpe : P = 0.9328, R = 0.9325, F1 = 0.9326\n",
            "art : P = 0.0660, R = 0.0854, F1 = 0.0745\n",
            "nat : P = 0.3529, R = 0.5000, F1 = 0.4138\n",
            "eve : P = 0.1915, R = 0.3913, F1 = 0.2571\n",
            "Epoch 1: train loss = 0.2300, val f1: 0.7569, time = 12.9248\n",
            "Epoch 2: train loss = 0.1184, val f1: 0.7675, time = 12.8509\n",
            "Epoch 3: train loss = 0.0973, val f1: 0.7751, time = 12.8641\n",
            "Epoch 4: train loss = 0.0861, val f1: 0.7719, time = 12.8352\n",
            "Epoch 5: train loss = 0.0781, val f1: 0.7733, time = 12.9448\n",
            "Epoch 6: train loss = 0.0712, val f1: 0.7780, time = 13.1400\n",
            "Epoch 7: train loss = 0.0657, val f1: 0.7740, time = 12.9546\n",
            "Epoch 8: train loss = 0.0618, val f1: 0.7750, time = 12.9068\n",
            "Epoch 9: train loss = 0.0581, val f1: 0.7681, time = 12.9566\n",
            "Epoch 10: train loss = 0.0552, val f1: 0.7729, time = 12.9143\n",
            "Epoch 11: train loss = 0.0519, val f1: 0.7694, time = 12.9225\n",
            "Epoch 12: train loss = 0.0506, val f1: 0.7587, time = 12.9033\n",
            "Epoch 13: train loss = 0.0486, val f1: 0.7620, time = 12.8910\n",
            "Epoch 14: train loss = 0.0467, val f1: 0.7694, time = 12.8770\n",
            "Epoch 15: train loss = 0.0458, val f1: 0.7593, time = 12.8858\n",
            "Epoch 16: train loss = 0.0442, val f1: 0.7602, time = 13.0739\n",
            "Epoch 17: train loss = 0.0428, val f1: 0.7553, time = 12.9653\n",
            "Epoch 18: train loss = 0.0410, val f1: 0.7348, time = 12.9770\n",
            "Epoch 19: train loss = 0.0424, val f1: 0.7536, time = 12.9992\n",
            "Epoch 20: train loss = 0.0399, val f1: 0.7272, time = 13.0437\n",
            "\n",
            "Final evaluation on the validation set:\n",
            "Overall: P = 0.6977, R = 0.7594, F1 = 0.7272\n",
            "org : P = 0.5991, R = 0.6020, F1 = 0.6005\n",
            "tim : P = 0.5234, R = 0.8326, F1 = 0.6427\n",
            "geo : P = 0.8368, R = 0.8228, F1 = 0.8298\n",
            "per : P = 0.6405, R = 0.5884, F1 = 0.6134\n",
            "gpe : P = 0.9433, R = 0.9183, F1 = 0.9306\n",
            "art : P = 0.2500, R = 0.0732, F1 = 0.1132\n",
            "nat : P = 0.3750, R = 0.5000, F1 = 0.4286\n",
            "eve : P = 0.1622, R = 0.3913, F1 = 0.2293\n",
            "Average F1-Score: 0.7824658350776698\n"
          ]
        }
      ],
      "source": [
        "ner_system = scrip_NER_NLP_project.SequenceLabeler(NERParameters(), LTSMModel)\n",
        "lstm = f1_score_over_5_runs(ner_system)"
      ]
    },
    {
      "cell_type": "code",
      "execution_count": null,
      "metadata": {
        "id": "vggBNmzNTiSo",
        "colab": {
          "base_uri": "https://localhost:8080/"
        },
        "outputId": "e4de8d66-d18b-41b4-ff8f-2c1ff771c205"
      },
      "outputs": [
        {
          "output_type": "stream",
          "name": "stdout",
          "text": [
            "Epoch 1: train loss = 0.1920, val f1: 0.7920, time = 13.2808\n",
            "Epoch 2: train loss = 0.0821, val f1: 0.8013, time = 13.3140\n",
            "Epoch 3: train loss = 0.0600, val f1: 0.8002, time = 13.2791\n",
            "Epoch 4: train loss = 0.0480, val f1: 0.8022, time = 13.2653\n",
            "Epoch 5: train loss = 0.0400, val f1: 0.7932, time = 13.2319\n",
            "Epoch 6: train loss = 0.0340, val f1: 0.7906, time = 13.2678\n",
            "Epoch 7: train loss = 0.0291, val f1: 0.7929, time = 13.2237\n",
            "Epoch 8: train loss = 0.0264, val f1: 0.7914, time = 13.2762\n",
            "Epoch 9: train loss = 0.0240, val f1: 0.7930, time = 13.3503\n",
            "Epoch 10: train loss = 0.0221, val f1: 0.7888, time = 13.3487\n",
            "Epoch 11: train loss = 0.0208, val f1: 0.7862, time = 13.2756\n",
            "Epoch 12: train loss = 0.0195, val f1: 0.7860, time = 13.2225\n",
            "Epoch 13: train loss = 0.0183, val f1: 0.7884, time = 13.2597\n",
            "Epoch 14: train loss = 0.0180, val f1: 0.7827, time = 13.1814\n",
            "Epoch 15: train loss = 0.0173, val f1: 0.7887, time = 13.3031\n",
            "Epoch 16: train loss = 0.0160, val f1: 0.7894, time = 13.3188\n",
            "Epoch 17: train loss = 0.0161, val f1: 0.7836, time = 13.2882\n",
            "Epoch 18: train loss = 0.0155, val f1: 0.7784, time = 13.2896\n",
            "Epoch 19: train loss = 0.0165, val f1: 0.7766, time = 13.2325\n",
            "Epoch 20: train loss = 0.0142, val f1: 0.7805, time = 13.3053\n",
            "\n",
            "Final evaluation on the validation set:\n",
            "Overall: P = 0.7881, R = 0.7731, F1 = 0.7805\n",
            "org : P = 0.6523, R = 0.6289, F1 = 0.6404\n",
            "tim : P = 0.8549, R = 0.8226, F1 = 0.8384\n",
            "geo : P = 0.8544, R = 0.8227, F1 = 0.8382\n",
            "per : P = 0.6683, R = 0.6297, F1 = 0.6484\n",
            "gpe : P = 0.9346, R = 0.9513, F1 = 0.9429\n",
            "art : P = 0.0244, R = 0.0976, F1 = 0.0390\n",
            "nat : P = 0.3077, R = 0.5000, F1 = 0.3810\n",
            "eve : P = 0.2143, R = 0.2609, F1 = 0.2353\n",
            "Epoch 1: train loss = 0.1893, val f1: 0.7987, time = 13.1769\n",
            "Epoch 2: train loss = 0.0822, val f1: 0.8027, time = 13.6220\n",
            "Epoch 3: train loss = 0.0604, val f1: 0.8051, time = 13.2967\n",
            "Epoch 4: train loss = 0.0480, val f1: 0.8027, time = 13.3144\n",
            "Epoch 5: train loss = 0.0401, val f1: 0.8041, time = 13.4430\n",
            "Epoch 6: train loss = 0.0343, val f1: 0.8013, time = 13.5845\n",
            "Epoch 7: train loss = 0.0303, val f1: 0.7947, time = 13.7179\n",
            "Epoch 8: train loss = 0.0266, val f1: 0.7874, time = 13.6507\n",
            "Epoch 9: train loss = 0.0238, val f1: 0.7945, time = 13.5950\n",
            "Epoch 10: train loss = 0.0221, val f1: 0.7953, time = 13.3863\n",
            "Epoch 11: train loss = 0.0207, val f1: 0.7926, time = 13.2988\n",
            "Epoch 12: train loss = 0.0195, val f1: 0.7839, time = 13.3087\n",
            "Epoch 13: train loss = 0.0185, val f1: 0.7904, time = 13.3450\n",
            "Epoch 14: train loss = 0.0179, val f1: 0.7915, time = 13.2419\n",
            "Epoch 15: train loss = 0.0177, val f1: 0.7940, time = 13.2666\n",
            "Epoch 16: train loss = 0.0163, val f1: 0.7848, time = 13.3868\n",
            "Epoch 17: train loss = 0.0156, val f1: 0.7886, time = 13.2230\n",
            "Epoch 18: train loss = 0.0152, val f1: 0.7884, time = 13.2522\n",
            "Epoch 19: train loss = 0.0161, val f1: 0.7895, time = 13.2287\n",
            "Epoch 20: train loss = 0.0150, val f1: 0.7856, time = 13.3110\n",
            "\n",
            "Final evaluation on the validation set:\n",
            "Overall: P = 0.7840, R = 0.7871, F1 = 0.7856\n",
            "org : P = 0.6318, R = 0.6338, F1 = 0.6328\n",
            "tim : P = 0.8415, R = 0.8399, F1 = 0.8407\n",
            "geo : P = 0.8226, R = 0.8443, F1 = 0.8333\n",
            "per : P = 0.6713, R = 0.6625, F1 = 0.6669\n",
            "gpe : P = 0.9557, R = 0.9377, F1 = 0.9466\n",
            "art : P = 0.0843, R = 0.0854, F1 = 0.0848\n",
            "nat : P = 0.5500, R = 0.4583, F1 = 0.5000\n",
            "eve : P = 0.2791, R = 0.2609, F1 = 0.2697\n",
            "Epoch 1: train loss = 0.1907, val f1: 0.7900, time = 13.3399\n",
            "Epoch 2: train loss = 0.0825, val f1: 0.8003, time = 13.3081\n",
            "Epoch 3: train loss = 0.0610, val f1: 0.8023, time = 13.2680\n",
            "Epoch 4: train loss = 0.0491, val f1: 0.7999, time = 13.2258\n",
            "Epoch 5: train loss = 0.0416, val f1: 0.8003, time = 13.3237\n",
            "Epoch 6: train loss = 0.0357, val f1: 0.7951, time = 13.2659\n",
            "Epoch 7: train loss = 0.0315, val f1: 0.7960, time = 13.2623\n",
            "Epoch 8: train loss = 0.0279, val f1: 0.7960, time = 13.2315\n",
            "Epoch 9: train loss = 0.0254, val f1: 0.7948, time = 13.3507\n",
            "Epoch 10: train loss = 0.0240, val f1: 0.7982, time = 13.2563\n",
            "Epoch 11: train loss = 0.0222, val f1: 0.7945, time = 13.2322\n",
            "Epoch 12: train loss = 0.0213, val f1: 0.7901, time = 13.2617\n",
            "Epoch 13: train loss = 0.0199, val f1: 0.7878, time = 13.2332\n",
            "Epoch 14: train loss = 0.0189, val f1: 0.7903, time = 13.2456\n",
            "Epoch 15: train loss = 0.0191, val f1: 0.7803, time = 13.2063\n",
            "Epoch 16: train loss = 0.0182, val f1: 0.7809, time = 13.3817\n",
            "Epoch 17: train loss = 0.0172, val f1: 0.7877, time = 13.4662\n",
            "Epoch 18: train loss = 0.0167, val f1: 0.7888, time = 13.5466\n",
            "Epoch 19: train loss = 0.0165, val f1: 0.7862, time = 13.5862\n",
            "Epoch 20: train loss = 0.0162, val f1: 0.7847, time = 13.5708\n",
            "\n",
            "Final evaluation on the validation set:\n",
            "Overall: P = 0.7827, R = 0.7867, F1 = 0.7847\n",
            "org : P = 0.6704, R = 0.6076, F1 = 0.6375\n",
            "tim : P = 0.8044, R = 0.8384, F1 = 0.8211\n",
            "geo : P = 0.8276, R = 0.8530, F1 = 0.8401\n",
            "per : P = 0.6589, R = 0.6700, F1 = 0.6644\n",
            "gpe : P = 0.9567, R = 0.9399, F1 = 0.9482\n",
            "art : P = 0.0709, R = 0.1220, F1 = 0.0897\n",
            "nat : P = 0.4182, R = 0.4792, F1 = 0.4466\n",
            "eve : P = 0.1857, R = 0.2826, F1 = 0.2241\n",
            "Epoch 1: train loss = 0.1926, val f1: 0.7916, time = 13.3016\n",
            "Epoch 2: train loss = 0.0829, val f1: 0.8006, time = 13.2826\n",
            "Epoch 3: train loss = 0.0610, val f1: 0.7956, time = 13.2522\n",
            "Epoch 4: train loss = 0.0489, val f1: 0.7977, time = 13.2635\n",
            "Epoch 5: train loss = 0.0408, val f1: 0.7887, time = 13.2092\n",
            "Epoch 6: train loss = 0.0346, val f1: 0.7983, time = 13.2917\n",
            "Epoch 7: train loss = 0.0307, val f1: 0.7930, time = 13.2901\n",
            "Epoch 8: train loss = 0.0276, val f1: 0.7916, time = 13.2497\n",
            "Epoch 9: train loss = 0.0254, val f1: 0.7911, time = 13.2934\n",
            "Epoch 10: train loss = 0.0226, val f1: 0.7928, time = 13.2338\n",
            "Epoch 11: train loss = 0.0215, val f1: 0.7892, time = 13.2421\n",
            "Epoch 12: train loss = 0.0206, val f1: 0.7855, time = 13.2953\n",
            "Epoch 13: train loss = 0.0188, val f1: 0.7874, time = 13.2146\n",
            "Epoch 14: train loss = 0.0183, val f1: 0.7877, time = 13.2925\n",
            "Epoch 15: train loss = 0.0176, val f1: 0.7915, time = 13.1449\n",
            "Epoch 16: train loss = 0.0182, val f1: 0.7879, time = 13.2607\n",
            "Epoch 17: train loss = 0.0166, val f1: 0.7848, time = 13.2272\n",
            "Epoch 18: train loss = 0.0163, val f1: 0.7864, time = 13.2124\n",
            "Epoch 19: train loss = 0.0151, val f1: 0.7850, time = 13.3109\n",
            "Epoch 20: train loss = 0.0156, val f1: 0.7796, time = 13.3748\n",
            "\n",
            "Final evaluation on the validation set:\n",
            "Overall: P = 0.7743, R = 0.7850, F1 = 0.7796\n",
            "org : P = 0.6344, R = 0.6383, F1 = 0.6363\n",
            "tim : P = 0.7857, R = 0.8394, F1 = 0.8117\n",
            "geo : P = 0.8268, R = 0.8470, F1 = 0.8368\n",
            "per : P = 0.6827, R = 0.6261, F1 = 0.6532\n",
            "gpe : P = 0.9285, R = 0.9485, F1 = 0.9384\n",
            "art : P = 0.0727, R = 0.0488, F1 = 0.0584\n",
            "nat : P = 0.4286, R = 0.5625, F1 = 0.4865\n",
            "eve : P = 0.1325, R = 0.2391, F1 = 0.1705\n",
            "Epoch 1: train loss = 0.1938, val f1: 0.7937, time = 13.2842\n",
            "Epoch 2: train loss = 0.0821, val f1: 0.7863, time = 13.2576\n",
            "Epoch 3: train loss = 0.0599, val f1: 0.8018, time = 13.2579\n",
            "Epoch 4: train loss = 0.0476, val f1: 0.7936, time = 13.2398\n",
            "Epoch 5: train loss = 0.0400, val f1: 0.7882, time = 13.3388\n",
            "Epoch 6: train loss = 0.0335, val f1: 0.7972, time = 13.2817\n",
            "Epoch 7: train loss = 0.0291, val f1: 0.7998, time = 13.2515\n",
            "Epoch 8: train loss = 0.0258, val f1: 0.7924, time = 13.4756\n",
            "Epoch 9: train loss = 0.0239, val f1: 0.7877, time = 13.3861\n",
            "Epoch 10: train loss = 0.0222, val f1: 0.7860, time = 13.6139\n",
            "Epoch 11: train loss = 0.0200, val f1: 0.7832, time = 13.6482\n",
            "Epoch 12: train loss = 0.0193, val f1: 0.7891, time = 13.6414\n",
            "Epoch 13: train loss = 0.0189, val f1: 0.7833, time = 13.4471\n",
            "Epoch 14: train loss = 0.0169, val f1: 0.7838, time = 13.4097\n",
            "Epoch 15: train loss = 0.0170, val f1: 0.7831, time = 13.2600\n",
            "Epoch 16: train loss = 0.0155, val f1: 0.7821, time = 13.1916\n",
            "Epoch 17: train loss = 0.0150, val f1: 0.7725, time = 13.2564\n",
            "Epoch 18: train loss = 0.0157, val f1: 0.7783, time = 13.2310\n",
            "Epoch 19: train loss = 0.0150, val f1: 0.7821, time = 13.2418\n",
            "Epoch 20: train loss = 0.0137, val f1: 0.7761, time = 13.2024\n",
            "\n",
            "Final evaluation on the validation set:\n",
            "Overall: P = 0.7850, R = 0.7674, F1 = 0.7761\n",
            "org : P = 0.6403, R = 0.6356, F1 = 0.6379\n",
            "tim : P = 0.8430, R = 0.8387, F1 = 0.8408\n",
            "geo : P = 0.8508, R = 0.8113, F1 = 0.8306\n",
            "per : P = 0.6204, R = 0.6023, F1 = 0.6112\n",
            "gpe : P = 0.9404, R = 0.9380, F1 = 0.9392\n",
            "art : P = 0.1364, R = 0.0732, F1 = 0.0952\n",
            "nat : P = 0.3333, R = 0.4583, F1 = 0.3860\n",
            "eve : P = 0.2206, R = 0.3261, F1 = 0.2632\n",
            "Average F1-Score: 0.8024062113112755\n"
          ]
        }
      ],
      "source": [
        "ner_system = scrip_NER_NLP_project.SequenceLabeler(NERParameters(), LTSMModel)\n",
        "ner_system.params.finetune_word_emb = True\n",
        "lstm_finetuned = f1_score_over_5_runs(ner_system)"
      ]
    },
    {
      "cell_type": "code",
      "execution_count": null,
      "metadata": {
        "id": "NnVwOzrbSMeU",
        "colab": {
          "base_uri": "https://localhost:8080/"
        },
        "outputId": "f86ae6cc-2fa1-4f2b-9838-fd851332fe35"
      },
      "outputs": [
        {
          "output_type": "stream",
          "name": "stdout",
          "text": [
            "[==================================================] 100.0% 128.1/128.1MB downloaded\n",
            " done!\n"
          ]
        }
      ],
      "source": [
        "glove_model = scrip_NER_NLP_project.load_gensim_vectors(model_file='glove-wiki-gigaword-100', builtin=True)"
      ]
    },
    {
      "cell_type": "code",
      "execution_count": null,
      "metadata": {
        "id": "h9__cbAcUOwq",
        "colab": {
          "base_uri": "https://localhost:8080/"
        },
        "outputId": "50ff17ac-821a-4a42-9499-671ce4741c59"
      },
      "outputs": [
        {
          "output_type": "stream",
          "name": "stdout",
          "text": [
            "Epoch 1: train loss = 0.1901, val f1: 0.7729, time = 12.8324\n",
            "Epoch 2: train loss = 0.1122, val f1: 0.7979, time = 12.8844\n",
            "Epoch 3: train loss = 0.0990, val f1: 0.8040, time = 12.9351\n",
            "Epoch 4: train loss = 0.0897, val f1: 0.8106, time = 12.9623\n",
            "Epoch 5: train loss = 0.0819, val f1: 0.8048, time = 12.8846\n",
            "Epoch 6: train loss = 0.0757, val f1: 0.8069, time = 12.8840\n",
            "Epoch 7: train loss = 0.0696, val f1: 0.8049, time = 12.9837\n",
            "Epoch 8: train loss = 0.0651, val f1: 0.8031, time = 13.0783\n",
            "Epoch 9: train loss = 0.0611, val f1: 0.8034, time = 12.8863\n",
            "Epoch 10: train loss = 0.0571, val f1: 0.8022, time = 12.8897\n",
            "Epoch 11: train loss = 0.0543, val f1: 0.8013, time = 12.8794\n",
            "Epoch 12: train loss = 0.0521, val f1: 0.7986, time = 12.9418\n",
            "Epoch 13: train loss = 0.0497, val f1: 0.7989, time = 12.8599\n",
            "Epoch 14: train loss = 0.0471, val f1: 0.7966, time = 13.0500\n",
            "Epoch 15: train loss = 0.0456, val f1: 0.7989, time = 13.0727\n",
            "Epoch 16: train loss = 0.0441, val f1: 0.7926, time = 12.8974\n",
            "Epoch 17: train loss = 0.0433, val f1: 0.7982, time = 12.9454\n",
            "Epoch 18: train loss = 0.0415, val f1: 0.7994, time = 12.9390\n",
            "Epoch 19: train loss = 0.0406, val f1: 0.7964, time = 13.0136\n",
            "Epoch 20: train loss = 0.0401, val f1: 0.7941, time = 12.9771\n",
            "\n",
            "Final evaluation on the validation set:\n",
            "Overall: P = 0.7873, R = 0.8009, F1 = 0.7941\n",
            "org : P = 0.5601, R = 0.6223, F1 = 0.5896\n",
            "tim : P = 0.8780, R = 0.8350, F1 = 0.8560\n",
            "geo : P = 0.8388, R = 0.8636, F1 = 0.8510\n",
            "per : P = 0.7409, R = 0.7310, F1 = 0.7359\n",
            "gpe : P = 0.9549, R = 0.9402, F1 = 0.9475\n",
            "art : P = 0.0745, R = 0.0854, F1 = 0.0795\n",
            "eve : P = 0.2642, R = 0.3043, F1 = 0.2828\n",
            "nat : P = 0.4412, R = 0.3125, F1 = 0.3659\n",
            "Epoch 1: train loss = 0.1908, val f1: 0.7820, time = 13.0324\n",
            "Epoch 2: train loss = 0.1128, val f1: 0.7912, time = 12.9113\n",
            "Epoch 3: train loss = 0.0990, val f1: 0.7991, time = 12.9797\n",
            "Epoch 4: train loss = 0.0894, val f1: 0.7938, time = 12.9746\n",
            "Epoch 5: train loss = 0.0819, val f1: 0.8047, time = 12.9083\n",
            "Epoch 6: train loss = 0.0754, val f1: 0.8001, time = 13.2846\n",
            "Epoch 7: train loss = 0.0696, val f1: 0.8066, time = 13.0380\n",
            "Epoch 8: train loss = 0.0647, val f1: 0.7985, time = 12.9106\n",
            "Epoch 9: train loss = 0.0607, val f1: 0.7991, time = 12.9086\n",
            "Epoch 10: train loss = 0.0569, val f1: 0.8009, time = 12.9667\n",
            "Epoch 11: train loss = 0.0535, val f1: 0.8001, time = 12.9287\n",
            "Epoch 12: train loss = 0.0516, val f1: 0.7941, time = 13.2100\n",
            "Epoch 13: train loss = 0.0488, val f1: 0.7984, time = 12.9836\n",
            "Epoch 14: train loss = 0.0466, val f1: 0.7975, time = 12.8845\n",
            "Epoch 15: train loss = 0.0442, val f1: 0.7933, time = 12.9226\n",
            "Epoch 16: train loss = 0.0431, val f1: 0.7958, time = 12.9195\n",
            "Epoch 17: train loss = 0.0409, val f1: 0.7956, time = 12.8471\n",
            "Epoch 18: train loss = 0.0404, val f1: 0.7929, time = 12.8906\n",
            "Epoch 19: train loss = 0.0395, val f1: 0.7922, time = 12.8992\n",
            "Epoch 20: train loss = 0.0378, val f1: 0.7936, time = 12.9561\n",
            "\n",
            "Final evaluation on the validation set:\n",
            "Overall: P = 0.7863, R = 0.8011, F1 = 0.7936\n",
            "org : P = 0.5668, R = 0.6081, F1 = 0.5867\n",
            "tim : P = 0.8543, R = 0.8487, F1 = 0.8515\n",
            "geo : P = 0.8342, R = 0.8605, F1 = 0.8472\n",
            "per : P = 0.7344, R = 0.7344, F1 = 0.7344\n",
            "gpe : P = 0.9599, R = 0.9445, F1 = 0.9521\n",
            "art : P = 0.1053, R = 0.0732, F1 = 0.0863\n",
            "nat : P = 0.5938, R = 0.3958, F1 = 0.4750\n",
            "eve : P = 0.2941, R = 0.3261, F1 = 0.3093\n",
            "Epoch 1: train loss = 0.1938, val f1: 0.7776, time = 12.9083\n",
            "Epoch 2: train loss = 0.1125, val f1: 0.8005, time = 12.9530\n",
            "Epoch 3: train loss = 0.0985, val f1: 0.8068, time = 12.9849\n",
            "Epoch 4: train loss = 0.0889, val f1: 0.7984, time = 12.9734\n",
            "Epoch 5: train loss = 0.0812, val f1: 0.8028, time = 13.1769\n",
            "Epoch 6: train loss = 0.0739, val f1: 0.8016, time = 13.0089\n",
            "Epoch 7: train loss = 0.0683, val f1: 0.8002, time = 13.0953\n",
            "Epoch 8: train loss = 0.0634, val f1: 0.8002, time = 13.0007\n",
            "Epoch 9: train loss = 0.0593, val f1: 0.8035, time = 13.1299\n",
            "Epoch 10: train loss = 0.0557, val f1: 0.7997, time = 13.1065\n",
            "Epoch 11: train loss = 0.0520, val f1: 0.7998, time = 13.0514\n",
            "Epoch 12: train loss = 0.0496, val f1: 0.8012, time = 13.0918\n",
            "Epoch 13: train loss = 0.0473, val f1: 0.7969, time = 13.1531\n",
            "Epoch 14: train loss = 0.0457, val f1: 0.7993, time = 13.0916\n",
            "Epoch 15: train loss = 0.0434, val f1: 0.8000, time = 13.0505\n",
            "Epoch 16: train loss = 0.0420, val f1: 0.7967, time = 13.1240\n",
            "Epoch 17: train loss = 0.0403, val f1: 0.7985, time = 13.1835\n",
            "Epoch 18: train loss = 0.0397, val f1: 0.7961, time = 13.1604\n",
            "Epoch 19: train loss = 0.0380, val f1: 0.7949, time = 13.2337\n",
            "Epoch 20: train loss = 0.0376, val f1: 0.7997, time = 13.1007\n",
            "\n",
            "Final evaluation on the validation set:\n",
            "Overall: P = 0.7981, R = 0.8013, F1 = 0.7997\n",
            "org : P = 0.5945, R = 0.6118, F1 = 0.6030\n",
            "tim : P = 0.8649, R = 0.8426, F1 = 0.8536\n",
            "geo : P = 0.8392, R = 0.8664, F1 = 0.8525\n",
            "per : P = 0.7350, R = 0.7335, F1 = 0.7342\n",
            "gpe : P = 0.9651, R = 0.9383, F1 = 0.9515\n",
            "art : P = 0.2059, R = 0.0854, F1 = 0.1207\n",
            "nat : P = 0.4118, R = 0.2917, F1 = 0.3415\n",
            "eve : P = 0.3514, R = 0.2826, F1 = 0.3133\n",
            "Epoch 1: train loss = 0.1871, val f1: 0.7805, time = 12.9448\n",
            "Epoch 2: train loss = 0.1116, val f1: 0.7943, time = 12.9517\n",
            "Epoch 3: train loss = 0.0984, val f1: 0.7995, time = 12.8756\n",
            "Epoch 4: train loss = 0.0886, val f1: 0.7893, time = 12.9737\n",
            "Epoch 5: train loss = 0.0810, val f1: 0.8009, time = 13.0635\n",
            "Epoch 6: train loss = 0.0744, val f1: 0.8059, time = 13.0051\n",
            "Epoch 7: train loss = 0.0690, val f1: 0.8028, time = 13.0020\n",
            "Epoch 8: train loss = 0.0639, val f1: 0.8044, time = 12.9613\n",
            "Epoch 9: train loss = 0.0598, val f1: 0.8052, time = 13.0800\n",
            "Epoch 10: train loss = 0.0565, val f1: 0.8049, time = 12.9659\n",
            "Epoch 11: train loss = 0.0537, val f1: 0.8036, time = 13.0001\n",
            "Epoch 12: train loss = 0.0510, val f1: 0.7973, time = 12.9988\n",
            "Epoch 13: train loss = 0.0485, val f1: 0.7954, time = 12.8969\n",
            "Epoch 14: train loss = 0.0466, val f1: 0.7988, time = 12.9584\n",
            "Epoch 15: train loss = 0.0448, val f1: 0.7948, time = 13.1050\n",
            "Epoch 16: train loss = 0.0430, val f1: 0.7920, time = 13.0309\n",
            "Epoch 17: train loss = 0.0426, val f1: 0.8020, time = 12.9644\n",
            "Epoch 18: train loss = 0.0405, val f1: 0.7924, time = 13.0182\n",
            "Epoch 19: train loss = 0.0390, val f1: 0.7986, time = 12.9766\n",
            "Epoch 20: train loss = 0.0382, val f1: 0.7946, time = 13.0455\n",
            "\n",
            "Final evaluation on the validation set:\n",
            "Overall: P = 0.7885, R = 0.8007, F1 = 0.7946\n",
            "org : P = 0.6044, R = 0.5912, F1 = 0.5977\n",
            "tim : P = 0.8705, R = 0.8355, F1 = 0.8526\n",
            "geo : P = 0.8244, R = 0.8687, F1 = 0.8460\n",
            "per : P = 0.7085, R = 0.7479, F1 = 0.7276\n",
            "gpe : P = 0.9576, R = 0.9473, F1 = 0.9524\n",
            "art : P = 0.0566, R = 0.0732, F1 = 0.0638\n",
            "nat : P = 0.4545, R = 0.4167, F1 = 0.4348\n",
            "eve : P = 0.1831, R = 0.2826, F1 = 0.2222\n",
            "Epoch 1: train loss = 0.1930, val f1: 0.7778, time = 13.0474\n",
            "Epoch 2: train loss = 0.1126, val f1: 0.7939, time = 13.1147\n",
            "Epoch 3: train loss = 0.0992, val f1: 0.8035, time = 13.0094\n",
            "Epoch 4: train loss = 0.0898, val f1: 0.8058, time = 13.1635\n",
            "Epoch 5: train loss = 0.0821, val f1: 0.8046, time = 13.0919\n",
            "Epoch 6: train loss = 0.0760, val f1: 0.8039, time = 12.9747\n",
            "Epoch 7: train loss = 0.0701, val f1: 0.8015, time = 12.9936\n",
            "Epoch 8: train loss = 0.0654, val f1: 0.8031, time = 13.0048\n",
            "Epoch 9: train loss = 0.0619, val f1: 0.8013, time = 12.9944\n",
            "Epoch 10: train loss = 0.0572, val f1: 0.8004, time = 13.0507\n",
            "Epoch 11: train loss = 0.0544, val f1: 0.8046, time = 12.9460\n",
            "Epoch 12: train loss = 0.0513, val f1: 0.8005, time = 12.9780\n",
            "Epoch 13: train loss = 0.0490, val f1: 0.7945, time = 13.0473\n",
            "Epoch 14: train loss = 0.0471, val f1: 0.7943, time = 12.9723\n",
            "Epoch 15: train loss = 0.0456, val f1: 0.8033, time = 13.0352\n",
            "Epoch 16: train loss = 0.0440, val f1: 0.7971, time = 13.0322\n",
            "Epoch 17: train loss = 0.0424, val f1: 0.7967, time = 12.9925\n",
            "Epoch 18: train loss = 0.0414, val f1: 0.7987, time = 12.9025\n",
            "Epoch 19: train loss = 0.0389, val f1: 0.7912, time = 12.9324\n",
            "Epoch 20: train loss = 0.0388, val f1: 0.7908, time = 12.9471\n",
            "\n",
            "Final evaluation on the validation set:\n",
            "Overall: P = 0.7841, R = 0.7975, F1 = 0.7908\n",
            "org : P = 0.5713, R = 0.6123, F1 = 0.5911\n",
            "tim : P = 0.8527, R = 0.8494, F1 = 0.8510\n",
            "geo : P = 0.8426, R = 0.8518, F1 = 0.8472\n",
            "per : P = 0.7168, R = 0.7220, F1 = 0.7194\n",
            "gpe : P = 0.9567, R = 0.9461, F1 = 0.9513\n",
            "art : P = 0.0761, R = 0.0854, F1 = 0.0805\n",
            "eve : P = 0.1875, R = 0.3261, F1 = 0.2381\n",
            "nat : P = 0.5000, R = 0.4167, F1 = 0.4545\n",
            "Average F1-Score: 0.8071122873188401\n"
          ]
        }
      ],
      "source": [
        "ner_system = scrip_NER_NLP_project.SequenceLabeler(NERParameters(), LTSMModel, pretrained_word_emb=glove_model)\n",
        "lstm_glove = f1_score_over_5_runs(ner_system)"
      ]
    },
    {
      "cell_type": "code",
      "execution_count": null,
      "metadata": {
        "id": "7Pw2VkomUeQT",
        "colab": {
          "base_uri": "https://localhost:8080/"
        },
        "outputId": "280ae1c6-ea12-40ea-f6ab-840e6b6cecd0"
      },
      "outputs": [
        {
          "output_type": "stream",
          "name": "stdout",
          "text": [
            "Epoch 1: train loss = 0.1684, val f1: 0.7928, time = 30.6949\n",
            "Epoch 2: train loss = 0.0905, val f1: 0.8083, time = 30.5967\n",
            "Epoch 3: train loss = 0.0715, val f1: 0.8048, time = 30.3848\n",
            "Epoch 4: train loss = 0.0590, val f1: 0.8002, time = 31.0953\n",
            "Epoch 5: train loss = 0.0495, val f1: 0.7998, time = 30.5529\n",
            "Epoch 6: train loss = 0.0427, val f1: 0.8013, time = 30.3741\n",
            "Epoch 7: train loss = 0.0365, val f1: 0.7899, time = 31.2002\n",
            "Epoch 8: train loss = 0.0322, val f1: 0.7922, time = 30.3913\n",
            "Epoch 9: train loss = 0.0289, val f1: 0.7885, time = 30.4849\n",
            "Epoch 10: train loss = 0.0259, val f1: 0.7832, time = 30.8069\n",
            "Epoch 11: train loss = 0.0240, val f1: 0.7897, time = 30.3779\n",
            "Epoch 12: train loss = 0.0222, val f1: 0.7875, time = 30.4046\n",
            "Epoch 13: train loss = 0.0206, val f1: 0.7861, time = 30.7892\n",
            "Epoch 14: train loss = 0.0188, val f1: 0.7780, time = 30.4121\n",
            "Epoch 15: train loss = 0.0184, val f1: 0.7804, time = 30.6793\n",
            "Epoch 16: train loss = 0.0181, val f1: 0.7773, time = 30.6906\n",
            "Epoch 17: train loss = 0.0164, val f1: 0.7773, time = 30.4382\n",
            "Epoch 18: train loss = 0.0159, val f1: 0.7791, time = 31.1890\n",
            "Epoch 19: train loss = 0.0159, val f1: 0.7801, time = 30.4376\n",
            "Epoch 20: train loss = 0.0155, val f1: 0.7701, time = 30.3672\n",
            "\n",
            "Final evaluation on the validation set:\n",
            "Overall: P = 0.7600, R = 0.7805, F1 = 0.7701\n",
            "org : P = 0.5276, R = 0.6040, F1 = 0.5632\n",
            "tim : P = 0.8419, R = 0.8411, F1 = 0.8415\n",
            "geo : P = 0.8407, R = 0.8072, F1 = 0.8236\n",
            "per : P = 0.6924, R = 0.7292, F1 = 0.7103\n",
            "gpe : P = 0.9212, R = 0.9445, F1 = 0.9327\n",
            "art : P = 0.0780, R = 0.1341, F1 = 0.0987\n",
            "nat : P = 0.4615, R = 0.3750, F1 = 0.4138\n",
            "eve : P = 0.2931, R = 0.3696, F1 = 0.3269\n",
            "Epoch 1: train loss = 0.1701, val f1: 0.7879, time = 31.1224\n",
            "Epoch 2: train loss = 0.0914, val f1: 0.8101, time = 30.4352\n",
            "Epoch 3: train loss = 0.0723, val f1: 0.8000, time = 30.8675\n",
            "Epoch 4: train loss = 0.0601, val f1: 0.8021, time = 30.5889\n",
            "Epoch 5: train loss = 0.0504, val f1: 0.7958, time = 30.3645\n",
            "Epoch 6: train loss = 0.0435, val f1: 0.7992, time = 31.1819\n",
            "Epoch 7: train loss = 0.0376, val f1: 0.7989, time = 30.5491\n",
            "Epoch 8: train loss = 0.0330, val f1: 0.7953, time = 30.4740\n",
            "Epoch 9: train loss = 0.0293, val f1: 0.7921, time = 30.9905\n",
            "Epoch 10: train loss = 0.0273, val f1: 0.7853, time = 30.3998\n",
            "Epoch 11: train loss = 0.0250, val f1: 0.7885, time = 30.4031\n",
            "Epoch 12: train loss = 0.0230, val f1: 0.7840, time = 30.7658\n",
            "Epoch 13: train loss = 0.0219, val f1: 0.7889, time = 30.4051\n",
            "Epoch 14: train loss = 0.0194, val f1: 0.7870, time = 30.4460\n",
            "Epoch 15: train loss = 0.0192, val f1: 0.7852, time = 30.7632\n",
            "Epoch 16: train loss = 0.0187, val f1: 0.7850, time = 30.7929\n",
            "Epoch 17: train loss = 0.0175, val f1: 0.7875, time = 31.7716\n",
            "Epoch 18: train loss = 0.0169, val f1: 0.7850, time = 31.2210\n",
            "Epoch 19: train loss = 0.0159, val f1: 0.7755, time = 30.8529\n",
            "Epoch 20: train loss = 0.0160, val f1: 0.7810, time = 31.2871\n",
            "\n",
            "Final evaluation on the validation set:\n",
            "Overall: P = 0.7716, R = 0.7906, F1 = 0.7810\n",
            "org : P = 0.5470, R = 0.6052, F1 = 0.5747\n",
            "tim : P = 0.8421, R = 0.8423, F1 = 0.8422\n",
            "geo : P = 0.8255, R = 0.8449, F1 = 0.8351\n",
            "per : P = 0.7148, R = 0.7103, F1 = 0.7125\n",
            "gpe : P = 0.9500, R = 0.9439, F1 = 0.9470\n",
            "art : P = 0.0556, R = 0.0366, F1 = 0.0441\n",
            "nat : P = 0.5532, R = 0.5417, F1 = 0.5474\n",
            "eve : P = 0.2333, R = 0.3043, F1 = 0.2642\n",
            "Epoch 1: train loss = 0.1716, val f1: 0.7931, time = 30.9211\n",
            "Epoch 2: train loss = 0.0903, val f1: 0.8036, time = 31.5776\n",
            "Epoch 3: train loss = 0.0715, val f1: 0.8142, time = 31.3909\n",
            "Epoch 4: train loss = 0.0593, val f1: 0.7932, time = 30.8609\n",
            "Epoch 5: train loss = 0.0502, val f1: 0.8047, time = 31.4181\n",
            "Epoch 6: train loss = 0.0426, val f1: 0.7969, time = 30.6203\n",
            "Epoch 7: train loss = 0.0369, val f1: 0.7986, time = 30.9429\n",
            "Epoch 8: train loss = 0.0321, val f1: 0.7970, time = 31.4985\n",
            "Epoch 9: train loss = 0.0287, val f1: 0.7896, time = 31.2369\n",
            "Epoch 10: train loss = 0.0261, val f1: 0.7881, time = 30.6797\n",
            "Epoch 11: train loss = 0.0244, val f1: 0.7883, time = 31.2474\n",
            "Epoch 12: train loss = 0.0224, val f1: 0.7936, time = 30.7334\n",
            "Epoch 13: train loss = 0.0211, val f1: 0.7875, time = 31.0035\n",
            "Epoch 14: train loss = 0.0195, val f1: 0.7844, time = 31.2605\n",
            "Epoch 15: train loss = 0.0192, val f1: 0.7840, time = 30.8247\n",
            "Epoch 16: train loss = 0.0187, val f1: 0.7830, time = 31.6757\n",
            "Epoch 17: train loss = 0.0175, val f1: 0.7842, time = 30.6255\n",
            "Epoch 18: train loss = 0.0169, val f1: 0.7767, time = 30.3798\n",
            "Epoch 19: train loss = 0.0170, val f1: 0.7818, time = 30.8992\n",
            "Epoch 20: train loss = 0.0156, val f1: 0.7825, time = 30.4073\n",
            "\n",
            "Final evaluation on the validation set:\n",
            "Overall: P = 0.7722, R = 0.7930, F1 = 0.7825\n",
            "org : P = 0.5556, R = 0.5922, F1 = 0.5733\n",
            "tim : P = 0.8441, R = 0.8457, F1 = 0.8449\n",
            "geo : P = 0.8228, R = 0.8496, F1 = 0.8360\n",
            "per : P = 0.7042, R = 0.7298, F1 = 0.7168\n",
            "gpe : P = 0.9543, R = 0.9405, F1 = 0.9474\n",
            "art : P = 0.1071, R = 0.0732, F1 = 0.0870\n",
            "nat : P = 0.4355, R = 0.5625, F1 = 0.4909\n",
            "eve : P = 0.2090, R = 0.3043, F1 = 0.2478\n",
            "Epoch 1: train loss = 0.1666, val f1: 0.8006, time = 30.9605\n",
            "Epoch 2: train loss = 0.0901, val f1: 0.8074, time = 30.5657\n",
            "Epoch 3: train loss = 0.0714, val f1: 0.8074, time = 30.3330\n",
            "Epoch 4: train loss = 0.0584, val f1: 0.8009, time = 31.1964\n",
            "Epoch 5: train loss = 0.0492, val f1: 0.7940, time = 30.3826\n",
            "Epoch 6: train loss = 0.0419, val f1: 0.7968, time = 30.4289\n",
            "Epoch 7: train loss = 0.0359, val f1: 0.7920, time = 30.8891\n",
            "Epoch 8: train loss = 0.0319, val f1: 0.7962, time = 30.4007\n",
            "Epoch 9: train loss = 0.0288, val f1: 0.7904, time = 30.3373\n",
            "Epoch 10: train loss = 0.0264, val f1: 0.7867, time = 30.7187\n",
            "Epoch 11: train loss = 0.0246, val f1: 0.7841, time = 30.3801\n",
            "Epoch 12: train loss = 0.0227, val f1: 0.7823, time = 30.5276\n",
            "Epoch 13: train loss = 0.0210, val f1: 0.7840, time = 30.6232\n",
            "Epoch 14: train loss = 0.0202, val f1: 0.7851, time = 30.4169\n",
            "Epoch 15: train loss = 0.0192, val f1: 0.7848, time = 30.9932\n",
            "Epoch 16: train loss = 0.0185, val f1: 0.7738, time = 30.5878\n",
            "Epoch 17: train loss = 0.0181, val f1: 0.7874, time = 30.3798\n",
            "Epoch 18: train loss = 0.0169, val f1: 0.7780, time = 31.2981\n",
            "Epoch 19: train loss = 0.0160, val f1: 0.7793, time = 30.4270\n",
            "Epoch 20: train loss = 0.0164, val f1: 0.7815, time = 30.4046\n",
            "\n",
            "Final evaluation on the validation set:\n",
            "Overall: P = 0.7778, R = 0.7852, F1 = 0.7815\n",
            "org : P = 0.5635, R = 0.5741, F1 = 0.5687\n",
            "tim : P = 0.8625, R = 0.8423, F1 = 0.8523\n",
            "geo : P = 0.8218, R = 0.8400, F1 = 0.8308\n",
            "per : P = 0.7207, R = 0.7211, F1 = 0.7209\n",
            "gpe : P = 0.9360, R = 0.9427, F1 = 0.9393\n",
            "art : P = 0.1081, R = 0.0976, F1 = 0.1026\n",
            "eve : P = 0.2159, R = 0.4130, F1 = 0.2836\n",
            "nat : P = 0.5000, R = 0.5625, F1 = 0.5294\n",
            "Epoch 1: train loss = 0.1708, val f1: 0.7896, time = 30.6760\n",
            "Epoch 2: train loss = 0.0907, val f1: 0.8064, time = 30.3458\n",
            "Epoch 3: train loss = 0.0717, val f1: 0.8084, time = 31.1105\n",
            "Epoch 4: train loss = 0.0589, val f1: 0.8038, time = 30.5290\n",
            "Epoch 5: train loss = 0.0495, val f1: 0.7963, time = 30.3732\n",
            "Epoch 6: train loss = 0.0425, val f1: 0.7976, time = 31.1522\n",
            "Epoch 7: train loss = 0.0368, val f1: 0.7931, time = 30.5030\n",
            "Epoch 8: train loss = 0.0324, val f1: 0.7970, time = 30.5114\n",
            "Epoch 9: train loss = 0.0289, val f1: 0.7893, time = 30.8158\n",
            "Epoch 10: train loss = 0.0260, val f1: 0.7819, time = 30.3640\n",
            "Epoch 11: train loss = 0.0243, val f1: 0.7834, time = 30.4012\n",
            "Epoch 12: train loss = 0.0217, val f1: 0.7829, time = 30.7563\n",
            "Epoch 13: train loss = 0.0207, val f1: 0.7837, time = 30.3839\n",
            "Epoch 14: train loss = 0.0199, val f1: 0.7770, time = 30.8442\n",
            "Epoch 15: train loss = 0.0189, val f1: 0.7867, time = 30.6293\n",
            "Epoch 16: train loss = 0.0176, val f1: 0.7794, time = 30.4100\n",
            "Epoch 17: train loss = 0.0167, val f1: 0.7758, time = 31.3442\n",
            "Epoch 18: train loss = 0.0164, val f1: 0.7793, time = 30.5220\n",
            "Epoch 19: train loss = 0.0166, val f1: 0.7699, time = 30.3740\n",
            "Epoch 20: train loss = 0.0159, val f1: 0.7787, time = 31.0182\n",
            "\n",
            "Final evaluation on the validation set:\n",
            "Overall: P = 0.7696, R = 0.7880, F1 = 0.7787\n",
            "org : P = 0.5620, R = 0.5920, F1 = 0.5766\n",
            "tim : P = 0.8395, R = 0.8436, F1 = 0.8415\n",
            "geo : P = 0.8217, R = 0.8379, F1 = 0.8297\n",
            "per : P = 0.7132, R = 0.7211, F1 = 0.7171\n",
            "gpe : P = 0.9407, R = 0.9442, F1 = 0.9425\n",
            "art : P = 0.0723, R = 0.1463, F1 = 0.0968\n",
            "nat : P = 0.4222, R = 0.3958, F1 = 0.4086\n",
            "eve : P = 0.2754, R = 0.4130, F1 = 0.3304\n",
            "Average F1-Score: 0.809673500075405\n"
          ]
        }
      ],
      "source": [
        "ner_system = scrip_NER_NLP_project.SequenceLabeler(NERParameters(), LTSMModel, pretrained_word_emb=glove_model)\n",
        "ner_system.params.finetune_word_emb = True\n",
        "lstm_glove_finetuned = f1_score_over_5_runs(ner_system)"
      ]
    },
    {
      "cell_type": "markdown",
      "metadata": {
        "id": "jP-78JNPXvrq"
      },
      "source": [
        "### BERT-Model:"
      ]
    },
    {
      "cell_type": "code",
      "execution_count": null,
      "metadata": {
        "id": "-eCqo3veBfYy"
      },
      "outputs": [],
      "source": [
        "from transformers import AutoTokenizer, AutoModelForTokenClassification\n",
        "from transformers import BertModel\n",
        "import torch.nn as nn\n",
        "\n",
        "class BertForNER(nn.Module):\n",
        "    def init(self, bert_model_name, num_labels):\n",
        "        super(BertForNER, self).init()\n",
        "        self.bert = BertModel.from_pretrained(bert_model_name)\n",
        "        self.classifier = nn.Linear(self.bert.config.hidden_size, num_labels)\n",
        "\n",
        "    def forward(self, input_ids, attention_mask=None):\n",
        "        outputs = self.bert(input_ids, attention_mask=attention_mask)\n",
        "        sequence_output = outputs[0]\n",
        "        logits = self.classifier(sequence_output)\n",
        "        return logits\n",
        "\n",
        "def model_factory(sequence_labeler):\n",
        "    # 'sequence_labeler' is an instance of the SequenceLabeler class\n",
        "    bert_model_name = 'distilbert-base-uncased'  # or 'distilbert-base-uncased' for DistilBERT\n",
        "    num_labels = len(sequence_labeler.label_voc)\n",
        "    # Create and return the model\n",
        "    return BertForNER(bert_model_name, num_labels)\n",
        "\n",
        "    params = NERParameters()  # Define your NER parameters\n",
        "    params.bert_max_len = 128\n",
        "    params.use_characters = False\n",
        "\n",
        "    distil_bert = AutoTokenizer.from_pretrained('distilbert-base-uncased')\n",
        "    # Initialize the SequenceLabeler\n",
        "    ner_system = SequenceLabeler(params, model_factory, bert_tokenizer=distil_bert)\n"
      ]
    },
    {
      "cell_type": "code",
      "execution_count": null,
      "metadata": {
        "id": "c4UfVuZQCYCd",
        "colab": {
          "base_uri": "https://localhost:8080/"
        },
        "outputId": "3953c3b3-dbc9-419f-c789-50a83233734c"
      },
      "outputs": [
        {
          "output_type": "stream",
          "name": "stdout",
          "text": [
            "Epoch 1: train loss = 0.1692, val f1: 0.8001, time = 30.5404\n",
            "Epoch 2: train loss = 0.0904, val f1: 0.8077, time = 31.3266\n",
            "Epoch 3: train loss = 0.0713, val f1: 0.8052, time = 30.6119\n",
            "Epoch 4: train loss = 0.0587, val f1: 0.7994, time = 30.4817\n",
            "Epoch 5: train loss = 0.0489, val f1: 0.7977, time = 31.1200\n",
            "Epoch 6: train loss = 0.0415, val f1: 0.7948, time = 30.5236\n",
            "Epoch 7: train loss = 0.0359, val f1: 0.7959, time = 30.4470\n",
            "Epoch 8: train loss = 0.0320, val f1: 0.7938, time = 30.9244\n",
            "Epoch 9: train loss = 0.0283, val f1: 0.7945, time = 30.4910\n",
            "Epoch 10: train loss = 0.0250, val f1: 0.7924, time = 31.0107\n",
            "Epoch 11: train loss = 0.0231, val f1: 0.7887, time = 30.7244\n",
            "Epoch 12: train loss = 0.0222, val f1: 0.7845, time = 30.4879\n",
            "Epoch 13: train loss = 0.0200, val f1: 0.7889, time = 31.3423\n",
            "Epoch 14: train loss = 0.0188, val f1: 0.7838, time = 30.6923\n",
            "Epoch 15: train loss = 0.0171, val f1: 0.7841, time = 30.5762\n",
            "Epoch 16: train loss = 0.0172, val f1: 0.7831, time = 30.8226\n",
            "Epoch 17: train loss = 0.0166, val f1: 0.7767, time = 30.4477\n",
            "Epoch 18: train loss = 0.0158, val f1: 0.7845, time = 30.9614\n",
            "Epoch 19: train loss = 0.0152, val f1: 0.7809, time = 30.8795\n",
            "Epoch 20: train loss = 0.0151, val f1: 0.7768, time = 31.2083\n",
            "\n",
            "Final evaluation on the validation set:\n",
            "Overall: P = 0.7648, R = 0.7892, F1 = 0.7768\n",
            "org : P = 0.5478, R = 0.5905, F1 = 0.5684\n",
            "tim : P = 0.8283, R = 0.8392, F1 = 0.8337\n",
            "geo : P = 0.8227, R = 0.8473, F1 = 0.8348\n",
            "per : P = 0.7049, R = 0.7235, F1 = 0.7141\n",
            "gpe : P = 0.9493, R = 0.9353, F1 = 0.9422\n",
            "art : P = 0.0699, R = 0.1220, F1 = 0.0889\n",
            "nat : P = 0.3968, R = 0.5208, F1 = 0.4505\n",
            "eve : P = 0.2857, R = 0.3043, F1 = 0.2947\n"
          ]
        },
        {
          "output_type": "execute_result",
          "data": {
            "text/plain": [
              "0.8077295120689267"
            ]
          },
          "metadata": {},
          "execution_count": 23
        }
      ],
      "source": [
        "# Now you can preprocess your data and fit the model\n",
        "ner_system.fit(Xtrain, Ytrain, Xval, Yval)"
      ]
    },
    {
      "cell_type": "code",
      "execution_count": null,
      "metadata": {
        "id": "luOK3ACaFR1m",
        "colab": {
          "base_uri": "https://localhost:8080/"
        },
        "outputId": "8a196944-3318-4e7d-f957-4234e386545d"
      },
      "outputs": [
        {
          "output_type": "stream",
          "name": "stdout",
          "text": [
            "Epoch 1: train loss = 0.1901, val f1: 0.7741, time = 14.3991\n",
            "Epoch 2: train loss = 0.1122, val f1: 0.7987, time = 14.6317\n",
            "Epoch 3: train loss = 0.0990, val f1: 0.8055, time = 14.0753\n",
            "Epoch 4: train loss = 0.0896, val f1: 0.8053, time = 13.3355\n",
            "Epoch 5: train loss = 0.0820, val f1: 0.8019, time = 13.0817\n",
            "Epoch 6: train loss = 0.0755, val f1: 0.8013, time = 13.3604\n",
            "Epoch 7: train loss = 0.0699, val f1: 0.8069, time = 13.4723\n",
            "Epoch 8: train loss = 0.0649, val f1: 0.8028, time = 13.2936\n",
            "Epoch 9: train loss = 0.0611, val f1: 0.7998, time = 13.2037\n",
            "Epoch 10: train loss = 0.0577, val f1: 0.8007, time = 13.3242\n",
            "Epoch 11: train loss = 0.0548, val f1: 0.7966, time = 13.2445\n",
            "Epoch 12: train loss = 0.0518, val f1: 0.7976, time = 13.1379\n",
            "Epoch 13: train loss = 0.0489, val f1: 0.7981, time = 13.0948\n",
            "Epoch 14: train loss = 0.0470, val f1: 0.7937, time = 13.1688\n",
            "Epoch 15: train loss = 0.0457, val f1: 0.7926, time = 13.3358\n",
            "Epoch 16: train loss = 0.0445, val f1: 0.7891, time = 13.1048\n",
            "Epoch 17: train loss = 0.0421, val f1: 0.7986, time = 13.1178\n",
            "Epoch 18: train loss = 0.0407, val f1: 0.7922, time = 13.2488\n",
            "Epoch 19: train loss = 0.0400, val f1: 0.7968, time = 13.0841\n",
            "Epoch 20: train loss = 0.0391, val f1: 0.7998, time = 13.0226\n",
            "\n",
            "Final evaluation on the validation set:\n",
            "Overall: P = 0.7940, R = 0.8056, F1 = 0.7998\n",
            "org : P = 0.6022, R = 0.6111, F1 = 0.6066\n",
            "tim : P = 0.8708, R = 0.8491, F1 = 0.8598\n",
            "geo : P = 0.8268, R = 0.8715, F1 = 0.8486\n",
            "per : P = 0.7405, R = 0.7313, F1 = 0.7359\n",
            "gpe : P = 0.9483, R = 0.9498, F1 = 0.9490\n",
            "art : P = 0.0800, R = 0.0732, F1 = 0.0764\n",
            "nat : P = 0.3659, R = 0.3125, F1 = 0.3371\n",
            "eve : P = 0.2909, R = 0.3478, F1 = 0.3168\n",
            "Epoch 1: train loss = 0.1908, val f1: 0.7820, time = 13.2658\n",
            "Epoch 2: train loss = 0.1128, val f1: 0.7920, time = 13.1652\n",
            "Epoch 3: train loss = 0.0990, val f1: 0.7999, time = 13.0810\n",
            "Epoch 4: train loss = 0.0896, val f1: 0.7922, time = 13.0724\n",
            "Epoch 5: train loss = 0.0822, val f1: 0.8085, time = 13.0293\n",
            "Epoch 6: train loss = 0.0752, val f1: 0.8032, time = 13.0171\n",
            "Epoch 7: train loss = 0.0697, val f1: 0.8043, time = 13.0980\n",
            "Epoch 8: train loss = 0.0655, val f1: 0.8016, time = 13.1054\n",
            "Epoch 9: train loss = 0.0611, val f1: 0.8013, time = 13.0333\n",
            "Epoch 10: train loss = 0.0570, val f1: 0.8009, time = 13.0856\n",
            "Epoch 11: train loss = 0.0544, val f1: 0.8008, time = 13.0549\n",
            "Epoch 12: train loss = 0.0510, val f1: 0.7963, time = 13.0563\n",
            "Epoch 13: train loss = 0.0493, val f1: 0.8006, time = 13.1097\n",
            "Epoch 14: train loss = 0.0466, val f1: 0.7957, time = 13.1096\n",
            "Epoch 15: train loss = 0.0451, val f1: 0.7924, time = 13.0814\n",
            "Epoch 16: train loss = 0.0428, val f1: 0.7960, time = 13.0615\n",
            "Epoch 17: train loss = 0.0414, val f1: 0.7952, time = 13.0673\n",
            "Epoch 18: train loss = 0.0408, val f1: 0.7877, time = 13.1109\n",
            "Epoch 19: train loss = 0.0385, val f1: 0.7890, time = 12.9866\n",
            "Epoch 20: train loss = 0.0376, val f1: 0.7928, time = 13.1070\n",
            "\n",
            "Final evaluation on the validation set:\n",
            "Overall: P = 0.7854, R = 0.8004, F1 = 0.7928\n",
            "org : P = 0.5739, R = 0.6250, F1 = 0.5984\n",
            "tim : P = 0.8683, R = 0.8377, F1 = 0.8528\n",
            "geo : P = 0.8364, R = 0.8612, F1 = 0.8486\n",
            "per : P = 0.7210, R = 0.7169, F1 = 0.7190\n",
            "gpe : P = 0.9464, R = 0.9467, F1 = 0.9465\n",
            "art : P = 0.0741, R = 0.0732, F1 = 0.0736\n",
            "nat : P = 0.4333, R = 0.5417, F1 = 0.4815\n",
            "eve : P = 0.3659, R = 0.3261, F1 = 0.3448\n",
            "Epoch 1: train loss = 0.1938, val f1: 0.7776, time = 13.1990\n",
            "Epoch 2: train loss = 0.1125, val f1: 0.7974, time = 13.1125\n",
            "Epoch 3: train loss = 0.0986, val f1: 0.8000, time = 13.1407\n",
            "Epoch 4: train loss = 0.0888, val f1: 0.7957, time = 13.0900\n",
            "Epoch 5: train loss = 0.0809, val f1: 0.8055, time = 13.0320\n",
            "Epoch 6: train loss = 0.0741, val f1: 0.8007, time = 13.0204\n",
            "Epoch 7: train loss = 0.0685, val f1: 0.7959, time = 13.0686\n",
            "Epoch 8: train loss = 0.0637, val f1: 0.8047, time = 13.0379\n",
            "Epoch 9: train loss = 0.0593, val f1: 0.8012, time = 13.0661\n",
            "Epoch 10: train loss = 0.0560, val f1: 0.7999, time = 12.9737\n",
            "Epoch 11: train loss = 0.0523, val f1: 0.7983, time = 12.9886\n",
            "Epoch 12: train loss = 0.0498, val f1: 0.7996, time = 13.0947\n",
            "Epoch 13: train loss = 0.0471, val f1: 0.7936, time = 13.0400\n",
            "Epoch 14: train loss = 0.0453, val f1: 0.7992, time = 13.0761\n",
            "Epoch 15: train loss = 0.0433, val f1: 0.7955, time = 13.0608\n",
            "Epoch 16: train loss = 0.0420, val f1: 0.7894, time = 13.0104\n",
            "Epoch 17: train loss = 0.0412, val f1: 0.7953, time = 13.0339\n",
            "Epoch 18: train loss = 0.0399, val f1: 0.7923, time = 13.1569\n",
            "Epoch 19: train loss = 0.0379, val f1: 0.7976, time = 13.2294\n",
            "Epoch 20: train loss = 0.0380, val f1: 0.7931, time = 13.0842\n",
            "\n",
            "Final evaluation on the validation set:\n",
            "Overall: P = 0.7845, R = 0.8019, F1 = 0.7931\n",
            "org : P = 0.5761, R = 0.6228, F1 = 0.5986\n",
            "tim : P = 0.8485, R = 0.8501, F1 = 0.8493\n",
            "geo : P = 0.8329, R = 0.8687, F1 = 0.8505\n",
            "per : P = 0.7115, R = 0.7145, F1 = 0.7130\n",
            "gpe : P = 0.9708, R = 0.9322, F1 = 0.9511\n",
            "art : P = 0.1212, R = 0.0488, F1 = 0.0696\n",
            "nat : P = 0.5128, R = 0.4167, F1 = 0.4598\n",
            "eve : P = 0.2453, R = 0.2826, F1 = 0.2626\n",
            "Epoch 1: train loss = 0.1871, val f1: 0.7805, time = 13.0531\n",
            "Epoch 2: train loss = 0.1116, val f1: 0.7944, time = 12.9721\n",
            "Epoch 3: train loss = 0.0984, val f1: 0.7985, time = 13.0781\n",
            "Epoch 4: train loss = 0.0888, val f1: 0.7887, time = 13.1081\n",
            "Epoch 5: train loss = 0.0815, val f1: 0.7937, time = 13.0767\n",
            "Epoch 6: train loss = 0.0745, val f1: 0.8073, time = 13.0206\n",
            "Epoch 7: train loss = 0.0683, val f1: 0.8014, time = 13.4648\n",
            "Epoch 8: train loss = 0.0645, val f1: 0.7996, time = 13.0897\n",
            "Epoch 9: train loss = 0.0601, val f1: 0.8022, time = 13.0191\n",
            "Epoch 10: train loss = 0.0568, val f1: 0.8050, time = 13.1069\n",
            "Epoch 11: train loss = 0.0538, val f1: 0.8014, time = 13.0104\n",
            "Epoch 12: train loss = 0.0508, val f1: 0.8005, time = 12.9880\n",
            "Epoch 13: train loss = 0.0489, val f1: 0.8030, time = 13.0625\n",
            "Epoch 14: train loss = 0.0472, val f1: 0.7974, time = 13.0708\n",
            "Epoch 15: train loss = 0.0450, val f1: 0.7947, time = 13.0894\n",
            "Epoch 16: train loss = 0.0428, val f1: 0.7923, time = 13.0803\n",
            "Epoch 17: train loss = 0.0422, val f1: 0.7971, time = 13.0805\n",
            "Epoch 18: train loss = 0.0405, val f1: 0.7937, time = 13.1223\n",
            "Epoch 19: train loss = 0.0394, val f1: 0.7946, time = 13.0143\n",
            "Epoch 20: train loss = 0.0381, val f1: 0.7895, time = 13.0408\n",
            "\n",
            "Final evaluation on the validation set:\n",
            "Overall: P = 0.7779, R = 0.8014, F1 = 0.7895\n",
            "org : P = 0.5799, R = 0.5883, F1 = 0.5841\n",
            "tim : P = 0.8658, R = 0.8460, F1 = 0.8558\n",
            "geo : P = 0.8256, R = 0.8687, F1 = 0.8466\n",
            "per : P = 0.6930, R = 0.7428, F1 = 0.7170\n",
            "gpe : P = 0.9467, R = 0.9470, F1 = 0.9468\n",
            "art : P = 0.0667, R = 0.0854, F1 = 0.0749\n",
            "nat : P = 0.3654, R = 0.3958, F1 = 0.3800\n",
            "eve : P = 0.1531, R = 0.3261, F1 = 0.2083\n",
            "Epoch 1: train loss = 0.1930, val f1: 0.7773, time = 13.1730\n",
            "Epoch 2: train loss = 0.1125, val f1: 0.7955, time = 13.2281\n",
            "Epoch 3: train loss = 0.0991, val f1: 0.8010, time = 13.4471\n",
            "Epoch 4: train loss = 0.0897, val f1: 0.8086, time = 13.2931\n",
            "Epoch 5: train loss = 0.0821, val f1: 0.8069, time = 13.3545\n",
            "Epoch 6: train loss = 0.0760, val f1: 0.8058, time = 13.4026\n",
            "Epoch 7: train loss = 0.0697, val f1: 0.8035, time = 13.1624\n",
            "Epoch 8: train loss = 0.0651, val f1: 0.8075, time = 13.2785\n",
            "Epoch 9: train loss = 0.0614, val f1: 0.8032, time = 13.1343\n",
            "Epoch 10: train loss = 0.0573, val f1: 0.8001, time = 13.0882\n",
            "Epoch 11: train loss = 0.0538, val f1: 0.8037, time = 13.0516\n",
            "Epoch 12: train loss = 0.0515, val f1: 0.7980, time = 13.0091\n",
            "Epoch 13: train loss = 0.0492, val f1: 0.8007, time = 13.0529\n",
            "Epoch 14: train loss = 0.0472, val f1: 0.7948, time = 13.0852\n",
            "Epoch 15: train loss = 0.0449, val f1: 0.8011, time = 13.1135\n",
            "Epoch 16: train loss = 0.0439, val f1: 0.7987, time = 13.0645\n",
            "Epoch 17: train loss = 0.0420, val f1: 0.7982, time = 13.0577\n",
            "Epoch 18: train loss = 0.0412, val f1: 0.7988, time = 13.0496\n",
            "Epoch 19: train loss = 0.0403, val f1: 0.7899, time = 13.1185\n",
            "Epoch 20: train loss = 0.0384, val f1: 0.7946, time = 13.0779\n",
            "\n",
            "Final evaluation on the validation set:\n",
            "Overall: P = 0.7903, R = 0.7989, F1 = 0.7946\n",
            "org : P = 0.5736, R = 0.6280, F1 = 0.5996\n",
            "tim : P = 0.8794, R = 0.8484, F1 = 0.8637\n",
            "geo : P = 0.8441, R = 0.8533, F1 = 0.8487\n",
            "per : P = 0.7272, R = 0.7106, F1 = 0.7188\n",
            "gpe : P = 0.9482, R = 0.9479, F1 = 0.9480\n",
            "art : P = 0.0732, R = 0.0732, F1 = 0.0732\n",
            "nat : P = 0.4211, R = 0.3333, F1 = 0.3721\n",
            "eve : P = 0.2364, R = 0.2826, F1 = 0.2574\n"
          ]
        }
      ],
      "source": [
        "def train_and_evaluate(ner_system, X_train, Y_train, X_val, Y_val, num_runs, finetune_emb=False):\n",
        "    ner_system.params.finetune_word_emb = finetune_emb\n",
        "    f1_scores = []\n",
        "    for i in range(num_runs):\n",
        "        # Set a different random seed each time\n",
        "        ner_system.params.random_seed = i\n",
        "        # Train the system\n",
        "        ner_system.preprocess(X_train, Y_train, X_val, Y_val)\n",
        "\n",
        "        f1_score = ner_system.fit(X_train, Y_train, X_val, Y_val)\n",
        "        f1_scores.append(f1_score)\n",
        "    return f1_scores\n",
        "\n",
        "f1_scores_frozen = train_and_evaluate(ner_system, Xtrain, Ytrain, Xval, Yval, num_runs=5, finetune_emb=False)\n",
        "mean_f1_frozen = sum(f1_scores_frozen) / len(f1_scores_frozen)"
      ]
    },
    {
      "cell_type": "markdown",
      "metadata": {
        "id": "mDp4TLQVHwT4"
      },
      "source": [
        "\n",
        "\n",
        "\n",
        "### ELMo-Model"
      ]
    },
    {
      "cell_type": "code",
      "source": [
        "import pandas as pd\n",
        "import zipfile\n",
        "import os\n",
        "import torch\n",
        "import torch.nn as nn\n",
        "import torch.optim as optim\n",
        "from torch.utils.data import Dataset, DataLoader\n",
        "from torch.nn.utils import rnn\n",
        "from sklearn.model_selection import train_test_split\n",
        "import pandas as pd\n",
        "from sklearn.preprocessing import LabelEncoder\n",
        "from torch.nn import functional as F\n",
        "import nltk"
      ],
      "metadata": {
        "id": "Gdi4yIEkaV73"
      },
      "execution_count": null,
      "outputs": []
    },
    {
      "cell_type": "code",
      "source": [
        "# Download the raw files from GitHub\n",
        "\n",
        "!wget https://github.com/richi1998/NLP-Project/raw/main/ner_dataset.csv.zip -O ner_dataset.csv.zip\n",
        "\n",
        "\n",
        "with zipfile.ZipFile('ner_dataset.csv.zip', 'r') as zip_ref:\n",
        "    zip_ref.extractall()\n",
        "\n",
        "# Check what files are in the directory\n",
        "print(\"Files in the current directory:\", os.listdir())"
      ],
      "metadata": {
        "colab": {
          "base_uri": "https://localhost:8080/"
        },
        "id": "eYL_CQlNaVyb",
        "outputId": "33812464-ad24-4063-d7f8-665eccda747d"
      },
      "execution_count": null,
      "outputs": [
        {
          "output_type": "stream",
          "name": "stdout",
          "text": [
            "--2024-01-07 19:52:17--  https://github.com/richi1998/NLP-Project/raw/main/ner_dataset.csv.zip\n",
            "Resolving github.com (github.com)... 140.82.114.4\n",
            "Connecting to github.com (github.com)|140.82.114.4|:443... connected.\n",
            "HTTP request sent, awaiting response... 302 Found\n",
            "Location: https://raw.githubusercontent.com/richi1998/NLP-Project/main/ner_dataset.csv.zip [following]\n",
            "--2024-01-07 19:52:17--  https://raw.githubusercontent.com/richi1998/NLP-Project/main/ner_dataset.csv.zip\n",
            "Resolving raw.githubusercontent.com (raw.githubusercontent.com)... 185.199.108.133, 185.199.110.133, 185.199.109.133, ...\n",
            "Connecting to raw.githubusercontent.com (raw.githubusercontent.com)|185.199.108.133|:443... connected.\n",
            "HTTP request sent, awaiting response... 200 OK\n",
            "Length: 3319491 (3.2M) [application/zip]\n",
            "Saving to: ‘ner_dataset.csv.zip’\n",
            "\n",
            "ner_dataset.csv.zip 100%[===================>]   3.17M  --.-KB/s    in 0.04s   \n",
            "\n",
            "2024-01-07 19:52:18 (74.9 MB/s) - ‘ner_dataset.csv.zip’ saved [3319491/3319491]\n",
            "\n",
            "Files in the current directory: ['.config', 'ner_dataset.csv', 'ner_dataset.csv.zip', 'sample_data']\n"
          ]
        }
      ]
    },
    {
      "cell_type": "code",
      "source": [
        "# Read the CSV files\n",
        "\n",
        "df2 = pd.read_csv('ner_dataset.csv', encoding='latin1')  # Adjust encoding if necessary\n",
        "df2 = df2.fillna(method='ffill')"
      ],
      "metadata": {
        "id": "d1x0JVe7aVoH"
      },
      "execution_count": null,
      "outputs": []
    },
    {
      "cell_type": "code",
      "source": [
        "# Instantiate ELMo model\n",
        "from allennlp.modules.elmo import Elmo\n",
        "options_file = \"https://allennlp.s3.amazonaws.com/models/elmo/2x4096_512_2048cnn_2xhighway/elmo_2x4096_512_2048cnn_2xhighway_options.json\"\n",
        "weight_file = \"https://allennlp.s3.amazonaws.com/models/elmo/2x4096_512_2048cnn_2xhighway/elmo_2x4096_512_2048cnn_2xhighway_weights.hdf5\"\n",
        "elmo = Elmo(options_file, weight_file, num_output_representations=1, dropout=0)"
      ],
      "metadata": {
        "id": "uRrAHoZ2aVU1",
        "colab": {
          "base_uri": "https://localhost:8080/",
          "height": 107,
          "referenced_widgets": [
            "9565261c93d24f75ad3a1f09f7a9b8d2",
            "4198587001f345d8b8f2209a3f94f1e8",
            "09bd9bb5fc084bd5a196d6603d633ccb",
            "6d827f6b29054376857f8bad940ee7af"
          ]
        },
        "outputId": "0cf09a05-8b8e-443e-d08a-c45f21adf006"
      },
      "execution_count": null,
      "outputs": [
        {
          "output_type": "stream",
          "name": "stderr",
          "text": [
            "/usr/local/lib/python3.10/dist-packages/torchvision/io/image.py:13: UserWarning: Failed to load image Python extension: /usr/local/lib/python3.10/dist-packages/torchvision/image.so: undefined symbol: _ZN3c104cuda20CUDACachingAllocator12recordStreamERKNS_7DataPtrENS0_10CUDAStreamE\n",
            "  warn(f\"Failed to load image Python extension: {e}\")\n"
          ]
        },
        {
          "output_type": "display_data",
          "data": {
            "text/plain": [
              "Output()"
            ],
            "application/vnd.jupyter.widget-view+json": {
              "version_major": 2,
              "version_minor": 0,
              "model_id": "9565261c93d24f75ad3a1f09f7a9b8d2"
            }
          },
          "metadata": {}
        },
        {
          "output_type": "display_data",
          "data": {
            "text/plain": [],
            "text/html": [
              "<pre style=\"white-space:pre;overflow-x:auto;line-height:normal;font-family:Menlo,'DejaVu Sans Mono',consolas,'Courier New',monospace\"></pre>\n"
            ]
          },
          "metadata": {}
        },
        {
          "output_type": "display_data",
          "data": {
            "text/plain": [
              "\n"
            ],
            "text/html": [
              "<pre style=\"white-space:pre;overflow-x:auto;line-height:normal;font-family:Menlo,'DejaVu Sans Mono',consolas,'Courier New',monospace\">\n",
              "</pre>\n"
            ]
          },
          "metadata": {}
        },
        {
          "output_type": "display_data",
          "data": {
            "text/plain": [
              "Output()"
            ],
            "application/vnd.jupyter.widget-view+json": {
              "version_major": 2,
              "version_minor": 0,
              "model_id": "09bd9bb5fc084bd5a196d6603d633ccb"
            }
          },
          "metadata": {}
        },
        {
          "output_type": "display_data",
          "data": {
            "text/plain": [],
            "text/html": [
              "<pre style=\"white-space:pre;overflow-x:auto;line-height:normal;font-family:Menlo,'DejaVu Sans Mono',consolas,'Courier New',monospace\"></pre>\n"
            ]
          },
          "metadata": {}
        },
        {
          "output_type": "display_data",
          "data": {
            "text/plain": [
              "\n"
            ],
            "text/html": [
              "<pre style=\"white-space:pre;overflow-x:auto;line-height:normal;font-family:Menlo,'DejaVu Sans Mono',consolas,'Courier New',monospace\">\n",
              "</pre>\n"
            ]
          },
          "metadata": {}
        }
      ]
    },
    {
      "cell_type": "code",
      "source": [
        "def get_sentences_and_labels(df):\n",
        "    agg_func = lambda s: [(w, t) for w, t in zip(s['Word'].values.tolist(),\n",
        "                                                  s['Tag'].values.tolist())]\n",
        "    grouped_df = df.groupby('Sentence #').apply(agg_func)\n",
        "    sentences = [[word_label[0] for word_label in sentence] for sentence in grouped_df]\n",
        "    labels = [[word_label[1] for word_label in sentence] for sentence in grouped_df]\n",
        "    return sentences, labels\n",
        "\n",
        "sentences, label_sentences = get_sentences_and_labels(df2)"
      ],
      "metadata": {
        "id": "AFGNOyM7aVKg"
      },
      "execution_count": null,
      "outputs": []
    },
    {
      "cell_type": "code",
      "source": [
        "from sklearn.preprocessing import LabelEncoder\n",
        "\n",
        "label_encoder = LabelEncoder()\n",
        "label_encoder.fit([label for sublist in label_sentences for label in sublist])\n",
        "encoded_labels = [label_encoder.transform(label_list) for label_list in label_sentences]\n",
        "unique_labels = set(tag for label_list in label_sentences for tag in label_list)\n",
        "tag2idx = {tag: idx for idx, tag in enumerate(unique_labels)}\n",
        "# Add the padding token to your set of unique labels\n",
        "unique_labels.add(\"<PAD>\")\n",
        "\n",
        "# Create the label-to-index mapping\n",
        "tag2idx = {tag: idx for idx, tag in enumerate(unique_labels)}\n",
        "\n",
        "# Define the index for the padding label\n",
        "label_pad_index = tag2idx[\"<PAD>\"]"
      ],
      "metadata": {
        "id": "BDZOUt2paVAl"
      },
      "execution_count": null,
      "outputs": []
    },
    {
      "cell_type": "code",
      "source": [
        "train_sentences, test_sentences, train_labels, test_labels = train_test_split(sentences, encoded_labels, test_size=0.2)\n"
      ],
      "metadata": {
        "id": "5jpqJ85oaUwe"
      },
      "execution_count": null,
      "outputs": []
    },
    {
      "cell_type": "code",
      "source": [
        "# Checking the first few sentences and labels in the training set\n",
        "for i in range(1):\n",
        "    print(\"Training Sentence:\", train_sentences[i])\n",
        "    print(\"Training Labels:\", train_labels[i])\n",
        "print(len(tag2idx))"
      ],
      "metadata": {
        "id": "uFDLoG1Ta5RS",
        "colab": {
          "base_uri": "https://localhost:8080/"
        },
        "outputId": "a446ff56-d764-4fc0-b57e-5ff535359610"
      },
      "execution_count": null,
      "outputs": [
        {
          "output_type": "stream",
          "name": "stdout",
          "text": [
            "Training Sentence: ['Russian', 'Prosecutor', 'General', 'Yuri', 'Chaika', 'Monday', 'announced', 'the', 'arrest', 'of', '10', 'people', 'in', 'the', 'case', '.']\n",
            "Training Labels: [ 3  5 13 13 13  7 16 16 16 16 16 16 16 16 16 16]\n",
            "18\n"
          ]
        }
      ]
    },
    {
      "cell_type": "code",
      "source": [
        "class NERDataset(Dataset):\n",
        "    def __init__(self, sentences, labels):\n",
        "        self.sentences = sentences\n",
        "        self.labels = labels\n",
        "\n",
        "    def __len__(self):\n",
        "        return len(self.sentences)\n",
        "\n",
        "    def __getitem__(self, idx):\n",
        "        # ELMO handles conversion of sentences to character IDs, so we keep sentences as they are\n",
        "        return {\n",
        "            'sentence': self.sentences[idx],  # List of words\n",
        "            'label': torch.tensor(self.labels[idx], dtype=torch.long)\n",
        "        }"
      ],
      "metadata": {
        "id": "Tpf_WXzza5By"
      },
      "execution_count": null,
      "outputs": []
    },
    {
      "cell_type": "code",
      "source": [
        "def collate_fn(batch):\n",
        "    sentences = [item['sentence'] for item in batch]\n",
        "    labels = [item['label'] for item in batch]\n",
        "\n",
        "    sentences = batch_to_ids(sentences)  # Convert sentences to ELMO character IDs\n",
        "    labels = torch.nn.utils.rnn.pad_sequence(labels, batch_first=True, padding_value=label_pad_index)\n",
        "\n",
        "    return sentences, labels\n",
        "\n",
        "train_dataset = NERDataset(train_sentences, train_labels)\n",
        "train_loader = DataLoader(train_dataset, batch_size=32, shuffle=True, collate_fn=collate_fn)\n",
        "test_dataset = NERDataset(test_sentences, test_labels)\n",
        "test_loader = DataLoader(test_dataset, batch_size=32, shuffle=True, collate_fn=collate_fn)"
      ],
      "metadata": {
        "id": "mWFeU9k3a4xI"
      },
      "execution_count": null,
      "outputs": []
    },
    {
      "cell_type": "code",
      "source": [
        "# MODEL\n",
        "class NERModel(nn.Module):\n",
        "    def __init__(self, elmo, hidden_dim, num_labels):\n",
        "        super(NERModel, self).__init__()\n",
        "        self.elmo = elmo\n",
        "        self.lstm = nn.LSTM(input_size=elmo.get_output_dim(),\n",
        "                            hidden_size=hidden_dim,\n",
        "                            batch_first=True,\n",
        "                            bidirectional=True)\n",
        "        self.hidden2tag = nn.Linear(hidden_dim * 2, num_labels)\n",
        "\n",
        "    def forward(self, x):\n",
        "        # x is a batch of sentences with each sentence as a list of character ids\n",
        "\n",
        "        # Create ELMo embeddings\n",
        "        embeddings = self.elmo(x)['elmo_representations'][0]\n",
        "\n",
        "        # Pass embeddings through LSTM\n",
        "        lstm_out, _ = self.lstm(embeddings)\n",
        "\n",
        "        # Fully connected layer\n",
        "        tag_space = self.hidden2tag(lstm_out)\n",
        "        tag_scores = torch.nn.functional.log_softmax(tag_space, dim=1)\n",
        "        return tag_scores\n",
        "\n",
        "# Initialize the model\n",
        "model = NERModel(elmo, hidden_dim=256, num_labels=len(tag2idx))\n",
        "device = torch.device(\"cuda\" if torch.cuda.is_available() else \"cpu\")\n",
        "model.to(device)"
      ],
      "metadata": {
        "id": "zF36l3yMa4gA",
        "colab": {
          "base_uri": "https://localhost:8080/"
        },
        "outputId": "724fefa5-783a-4b60-fc2b-7b0595698efd"
      },
      "execution_count": null,
      "outputs": [
        {
          "output_type": "execute_result",
          "data": {
            "text/plain": [
              "NERModel(\n",
              "  (elmo): Elmo(\n",
              "    (_elmo_lstm): _ElmoBiLm(\n",
              "      (_token_embedder): _ElmoCharacterEncoder(\n",
              "        (char_conv_0): Conv1d(16, 32, kernel_size=(1,), stride=(1,))\n",
              "        (char_conv_1): Conv1d(16, 32, kernel_size=(2,), stride=(1,))\n",
              "        (char_conv_2): Conv1d(16, 64, kernel_size=(3,), stride=(1,))\n",
              "        (char_conv_3): Conv1d(16, 128, kernel_size=(4,), stride=(1,))\n",
              "        (char_conv_4): Conv1d(16, 256, kernel_size=(5,), stride=(1,))\n",
              "        (char_conv_5): Conv1d(16, 512, kernel_size=(6,), stride=(1,))\n",
              "        (char_conv_6): Conv1d(16, 1024, kernel_size=(7,), stride=(1,))\n",
              "        (_highways): Highway(\n",
              "          (_layers): ModuleList(\n",
              "            (0-1): 2 x Linear(in_features=2048, out_features=4096, bias=True)\n",
              "          )\n",
              "        )\n",
              "        (_projection): Linear(in_features=2048, out_features=512, bias=True)\n",
              "      )\n",
              "      (_elmo_lstm): ElmoLstm(\n",
              "        (forward_layer_0): LstmCellWithProjection(\n",
              "          (input_linearity): Linear(in_features=512, out_features=16384, bias=False)\n",
              "          (state_linearity): Linear(in_features=512, out_features=16384, bias=True)\n",
              "          (state_projection): Linear(in_features=4096, out_features=512, bias=False)\n",
              "        )\n",
              "        (backward_layer_0): LstmCellWithProjection(\n",
              "          (input_linearity): Linear(in_features=512, out_features=16384, bias=False)\n",
              "          (state_linearity): Linear(in_features=512, out_features=16384, bias=True)\n",
              "          (state_projection): Linear(in_features=4096, out_features=512, bias=False)\n",
              "        )\n",
              "        (forward_layer_1): LstmCellWithProjection(\n",
              "          (input_linearity): Linear(in_features=512, out_features=16384, bias=False)\n",
              "          (state_linearity): Linear(in_features=512, out_features=16384, bias=True)\n",
              "          (state_projection): Linear(in_features=4096, out_features=512, bias=False)\n",
              "        )\n",
              "        (backward_layer_1): LstmCellWithProjection(\n",
              "          (input_linearity): Linear(in_features=512, out_features=16384, bias=False)\n",
              "          (state_linearity): Linear(in_features=512, out_features=16384, bias=True)\n",
              "          (state_projection): Linear(in_features=4096, out_features=512, bias=False)\n",
              "        )\n",
              "      )\n",
              "    )\n",
              "    (_dropout): Dropout(p=0, inplace=False)\n",
              "    (scalar_mix_0): ScalarMix(\n",
              "      (scalar_parameters): ParameterList(\n",
              "          (0): Parameter containing: [torch.float32 of size 1 (cuda:0)]\n",
              "          (1): Parameter containing: [torch.float32 of size 1 (cuda:0)]\n",
              "          (2): Parameter containing: [torch.float32 of size 1 (cuda:0)]\n",
              "      )\n",
              "    )\n",
              "  )\n",
              "  (lstm): LSTM(1024, 256, batch_first=True, bidirectional=True)\n",
              "  (hidden2tag): Linear(in_features=512, out_features=18, bias=True)\n",
              ")"
            ]
          },
          "metadata": {},
          "execution_count": 17
        }
      ]
    },
    {
      "cell_type": "code",
      "source": [
        "from allennlp.modules.elmo import batch_to_ids\n",
        "\n",
        "\n",
        "# Checking data loading and preprocessing\n",
        "for sentences, labels in train_loader:\n",
        "    print(\"Sample sentences:\", sentences)\n",
        "    print(\"Sample labels:\", labels)\n",
        "    break  # Only check the first batch\n",
        "\n",
        "# Checkiing data shapes and types\n",
        "print(\"Shape of sentences:\", sentences.shape)\n",
        "print(\"Shape of labels:\", labels.shape)\n",
        "print(\"Data type of sentences:\", sentences.dtype)\n",
        "print(\"Data type of labels:\", labels.dtype)\n",
        "\n",
        "# Testing a dummy batch through the model\n",
        "try:\n",
        "    with torch.no_grad():\n",
        "        output = model(sentences)\n",
        "    print(\"Dummy batch successfully processed by the model.\")\n",
        "except Exception as e:\n",
        "    print(\"Error processing dummy batch:\", e)\n"
      ],
      "metadata": {
        "id": "OKXPAxbgjZ37",
        "colab": {
          "base_uri": "https://localhost:8080/"
        },
        "outputId": "3b21e156-299c-4d92-ed06-250b46e2fd0c"
      },
      "execution_count": null,
      "outputs": [
        {
          "output_type": "stream",
          "name": "stdout",
          "text": [
            "Sample sentences: tensor([[[259,  85, 105,  ..., 261, 261, 261],\n",
            "         [259,  86,  47,  ..., 261, 261, 261],\n",
            "         [259, 103, 112,  ..., 261, 261, 261],\n",
            "         ...,\n",
            "         [  0,   0,   0,  ...,   0,   0,   0],\n",
            "         [  0,   0,   0,  ...,   0,   0,   0],\n",
            "         [  0,   0,   0,  ...,   0,   0,   0]],\n",
            "\n",
            "        [[259,  67, 118,  ..., 261, 261, 261],\n",
            "         [259, 113, 115,  ..., 261, 261, 261],\n",
            "         [259, 109, 102,  ..., 261, 261, 261],\n",
            "         ...,\n",
            "         [  0,   0,   0,  ...,   0,   0,   0],\n",
            "         [  0,   0,   0,  ...,   0,   0,   0],\n",
            "         [  0,   0,   0,  ...,   0,   0,   0]],\n",
            "\n",
            "        [[259,  80, 111,  ..., 261, 261, 261],\n",
            "         [259,  85, 118,  ..., 261, 261, 261],\n",
            "         [259,  45, 260,  ..., 261, 261, 261],\n",
            "         ...,\n",
            "         [  0,   0,   0,  ...,   0,   0,   0],\n",
            "         [  0,   0,   0,  ...,   0,   0,   0],\n",
            "         [  0,   0,   0,  ...,   0,   0,   0]],\n",
            "\n",
            "        ...,\n",
            "\n",
            "        [[259,  81,  98,  ..., 261, 261, 261],\n",
            "         [259,  74, 111,  ..., 261, 261, 261],\n",
            "         [259,  78, 106,  ..., 261, 261, 261],\n",
            "         ...,\n",
            "         [  0,   0,   0,  ...,   0,   0,   0],\n",
            "         [  0,   0,   0,  ...,   0,   0,   0],\n",
            "         [  0,   0,   0,  ...,   0,   0,   0]],\n",
            "\n",
            "        [[259,  85, 105,  ..., 261, 261, 261],\n",
            "         [259, 120, 112,  ..., 261, 261, 261],\n",
            "         [259,  40, 116,  ..., 261, 261, 261],\n",
            "         ...,\n",
            "         [  0,   0,   0,  ...,   0,   0,   0],\n",
            "         [  0,   0,   0,  ...,   0,   0,   0],\n",
            "         [  0,   0,   0,  ...,   0,   0,   0]],\n",
            "\n",
            "        [[259,  78, 115,  ..., 261, 261, 261],\n",
            "         [259,  80,  99,  ..., 261, 261, 261],\n",
            "         [259, 116,  98,  ..., 261, 261, 261],\n",
            "         ...,\n",
            "         [  0,   0,   0,  ...,   0,   0,   0],\n",
            "         [  0,   0,   0,  ...,   0,   0,   0],\n",
            "         [  0,   0,   0,  ...,   0,   0,   0]]])\n",
            "Sample labels: tensor([[16, 16, 16,  ...,  7,  7,  7],\n",
            "        [ 3, 16, 16,  ...,  7,  7,  7],\n",
            "        [16,  7, 15,  ...,  7,  7,  7],\n",
            "        ...,\n",
            "        [ 3, 16,  6,  ...,  7,  7,  7],\n",
            "        [16, 16, 16,  ...,  7,  7,  7],\n",
            "        [ 6, 14, 16,  ...,  7,  7,  7]])\n",
            "Shape of sentences: torch.Size([32, 37, 50])\n",
            "Shape of labels: torch.Size([32, 37])\n",
            "Data type of sentences: torch.int64\n",
            "Data type of labels: torch.int64\n",
            "Error processing dummy batch: Expected all tensors to be on the same device, but found at least two devices, cuda:0 and cpu! (when checking argument for argument index in method wrapper_CUDA__index_select)\n"
          ]
        }
      ]
    },
    {
      "cell_type": "code",
      "source": [
        "from torch.utils.data import Subset, DataLoader\n",
        "import numpy as np\n",
        "from tqdm import tqdm\n",
        "import torch\n",
        "from torch.optim import Adam\n",
        "from torch.nn import CrossEntropyLoss\n",
        "\n",
        "train_dataset = NERDataset(train_sentences, train_labels)\n",
        "train_loader = DataLoader(train_dataset, batch_size=32, shuffle=True, collate_fn=collate_fn)\n",
        "\n",
        "# Define the loss function and optimizer\n",
        "# Here we specify to ignore the padding index in the loss computation\n",
        "criterion = CrossEntropyLoss(ignore_index=label_pad_index)\n",
        "optimizer = Adam(model.parameters(), lr=0.001)\n",
        "\n",
        "# Number of training epochs\n",
        "num_epochs = 1\n",
        "num_labels = len(tag2idx)\n",
        "\n",
        "# Early stopping parameters\n",
        "best_loss = float('inf')\n",
        "epochs_no_improve = 0\n",
        "n_epochs_stop = 5\n",
        "\n",
        "# Training loop with early stopping\n",
        "for epoch in range(num_epochs):\n",
        "    model.train()\n",
        "    total_loss = 0\n",
        "\n",
        "    progress_bar = tqdm(train_loader, desc=f'Epoch {epoch + 1}/{num_epochs}')\n",
        "\n",
        "    for sentences, labels in progress_bar:\n",
        "        sentences = sentences.to(device)  # Move sentences to the device\n",
        "        labels = labels.to(device)  # Move labels to the device\n",
        "\n",
        "        labels = labels.view(-1)  # Flatten labels\n",
        "\n",
        "        tag_scores = model(sentences)\n",
        "        tag_scores = tag_scores.view(-1, num_labels)\n",
        "\n",
        "        loss = criterion(tag_scores, labels)\n",
        "\n",
        "        optimizer.zero_grad()\n",
        "        loss.backward()\n",
        "        optimizer.step()\n",
        "\n",
        "        total_loss += loss.item()\n",
        "        progress_bar.set_postfix({'batch_loss': loss.item()})\n",
        "\n",
        "    avg_loss = total_loss / len(train_loader)\n",
        "    print(f\"Epoch [{epoch + 1}/{num_epochs}], Average Loss: {avg_loss:.4f}\")\n",
        "\n",
        "    # Early stopping check\n",
        "    if avg_loss < best_loss:\n",
        "        best_loss = avg_loss\n",
        "        epochs_no_improve = 0\n",
        "    else:\n",
        "        epochs_no_improve += 1\n",
        "        if epochs_no_improve == n_epochs_stop:\n",
        "            print('Early stopping triggered')\n",
        "            break\n"
      ],
      "metadata": {
        "id": "m51U8WzWQZGZ",
        "colab": {
          "base_uri": "https://localhost:8080/",
          "height": 464
        },
        "outputId": "6225c583-3825-4153-e220-934a45d66987"
      },
      "execution_count": null,
      "outputs": [
        {
          "output_type": "error",
          "ename": "ModuleNotFoundError",
          "evalue": "No module named 'torch._dynamo'",
          "traceback": [
            "\u001b[0;31m---------------------------------------------------------------------------\u001b[0m",
            "\u001b[0;31mModuleNotFoundError\u001b[0m                       Traceback (most recent call last)",
            "\u001b[0;32m<ipython-input-19-5b034eb6d95c>\u001b[0m in \u001b[0;36m<cell line: 14>\u001b[0;34m()\u001b[0m\n\u001b[1;32m     12\u001b[0m \u001b[0;31m# Here we specify to ignore the padding index in the loss computation\u001b[0m\u001b[0;34m\u001b[0m\u001b[0;34m\u001b[0m\u001b[0m\n\u001b[1;32m     13\u001b[0m \u001b[0mcriterion\u001b[0m \u001b[0;34m=\u001b[0m \u001b[0mCrossEntropyLoss\u001b[0m\u001b[0;34m(\u001b[0m\u001b[0mignore_index\u001b[0m\u001b[0;34m=\u001b[0m\u001b[0mlabel_pad_index\u001b[0m\u001b[0;34m)\u001b[0m\u001b[0;34m\u001b[0m\u001b[0;34m\u001b[0m\u001b[0m\n\u001b[0;32m---> 14\u001b[0;31m \u001b[0moptimizer\u001b[0m \u001b[0;34m=\u001b[0m \u001b[0mAdam\u001b[0m\u001b[0;34m(\u001b[0m\u001b[0mmodel\u001b[0m\u001b[0;34m.\u001b[0m\u001b[0mparameters\u001b[0m\u001b[0;34m(\u001b[0m\u001b[0;34m)\u001b[0m\u001b[0;34m,\u001b[0m \u001b[0mlr\u001b[0m\u001b[0;34m=\u001b[0m\u001b[0;36m0.001\u001b[0m\u001b[0;34m)\u001b[0m\u001b[0;34m\u001b[0m\u001b[0;34m\u001b[0m\u001b[0m\n\u001b[0m\u001b[1;32m     15\u001b[0m \u001b[0;34m\u001b[0m\u001b[0m\n\u001b[1;32m     16\u001b[0m \u001b[0;31m# Number of training epochs\u001b[0m\u001b[0;34m\u001b[0m\u001b[0;34m\u001b[0m\u001b[0m\n",
            "\u001b[0;32m/usr/local/lib/python3.10/dist-packages/torch/optim/adam.py\u001b[0m in \u001b[0;36m__init__\u001b[0;34m(self, params, lr, betas, eps, weight_decay, amsgrad, foreach, maximize, capturable, differentiable, fused)\u001b[0m\n\u001b[1;32m     43\u001b[0m             \u001b[0;34m&\u001b[0m\u001b[0;31m\\\u001b[0m\u001b[0mrule\u001b[0m\u001b[0;34m{\u001b[0m\u001b[0;36m110\u001b[0m\u001b[0mmm\u001b[0m\u001b[0;34m}\u001b[0m\u001b[0;34m{\u001b[0m\u001b[0;36m0.4\u001b[0m\u001b[0mpt\u001b[0m\u001b[0;34m}\u001b[0m\u001b[0;31m \u001b[0m\u001b[0;31m \u001b[0m\u001b[0;31m \u001b[0m\u001b[0;31m \u001b[0m\u001b[0;31m \u001b[0m\u001b[0;31m \u001b[0m\u001b[0;31m \u001b[0m\u001b[0;31m \u001b[0m\u001b[0;31m \u001b[0m\u001b[0;31m \u001b[0m\u001b[0;31m \u001b[0m\u001b[0;31m \u001b[0m\u001b[0;31m \u001b[0m\u001b[0;31m \u001b[0m\u001b[0;31m \u001b[0m\u001b[0;31m \u001b[0m\u001b[0;31m \u001b[0m\u001b[0;31m \u001b[0m\u001b[0;31m \u001b[0m\u001b[0;31m \u001b[0m\u001b[0;31m \u001b[0m\u001b[0;31m \u001b[0m\u001b[0;31m \u001b[0m\u001b[0;31m \u001b[0m\u001b[0;31m \u001b[0m\u001b[0;31m \u001b[0m\u001b[0;31m \u001b[0m\u001b[0;31m \u001b[0m\u001b[0;31m \u001b[0m\u001b[0;31m \u001b[0m\u001b[0;31m \u001b[0m\u001b[0;31m \u001b[0m\u001b[0;31m \u001b[0m\u001b[0;31m \u001b[0m\u001b[0;31m \u001b[0m\u001b[0;31m \u001b[0m\u001b[0;31m \u001b[0m\u001b[0;31m \u001b[0m\u001b[0;31m \u001b[0m\u001b[0;31m \u001b[0m\u001b[0;31m \u001b[0m\u001b[0;31m \u001b[0m\u001b[0;31m \u001b[0m\u001b[0;31m \u001b[0m\u001b[0;31m \u001b[0m\u001b[0;31m \u001b[0m\u001b[0;31m \u001b[0m\u001b[0;31m \u001b[0m\u001b[0;31m \u001b[0m\u001b[0;31m \u001b[0m\u001b[0;31m \u001b[0m\u001b[0;31m \u001b[0m\u001b[0;31m \u001b[0m\u001b[0;31m \u001b[0m\u001b[0;31m \u001b[0m\u001b[0;31m \u001b[0m\u001b[0;31m \u001b[0m\u001b[0;31m \u001b[0m\u001b[0;31m\\\u001b[0m\u001b[0;31m\\\u001b[0m\u001b[0;34m[\u001b[0m\u001b[0;34m-\u001b[0m\u001b[0;36m1.\u001b[0m\u001b[0mex\u001b[0m\u001b[0;34m]\u001b[0m\u001b[0;34m\u001b[0m\u001b[0;34m\u001b[0m\u001b[0m\n\u001b[1;32m     44\u001b[0m        \u001b[0;31m\\\u001b[0m\u001b[0mend\u001b[0m\u001b[0;34m{\u001b[0m\u001b[0maligned\u001b[0m\u001b[0;34m}\u001b[0m\u001b[0;34m\u001b[0m\u001b[0;34m\u001b[0m\u001b[0m\n\u001b[0;32m---> 45\u001b[0;31m \u001b[0;34m\u001b[0m\u001b[0m\n\u001b[0m\u001b[1;32m     46\u001b[0m     \u001b[0mFor\u001b[0m \u001b[0mfurther\u001b[0m \u001b[0mdetails\u001b[0m \u001b[0mregarding\u001b[0m \u001b[0mthe\u001b[0m \u001b[0malgorithm\u001b[0m \u001b[0mwe\u001b[0m \u001b[0mrefer\u001b[0m \u001b[0mto\u001b[0m\u001b[0;31m \u001b[0m\u001b[0;31m`\u001b[0m\u001b[0mAdam\u001b[0m\u001b[0;34m:\u001b[0m \u001b[0mA\u001b[0m \u001b[0mMethod\u001b[0m \u001b[0;32mfor\u001b[0m \u001b[0mStochastic\u001b[0m \u001b[0mOptimization\u001b[0m\u001b[0;31m`\u001b[0m\u001b[0m_\u001b[0m\u001b[0;34m.\u001b[0m\u001b[0;34m\u001b[0m\u001b[0;34m\u001b[0m\u001b[0m\n\u001b[1;32m     47\u001b[0m \u001b[0;34m\u001b[0m\u001b[0m\n",
            "\u001b[0;32m/usr/local/lib/python3.10/dist-packages/torch/optim/optimizer.py\u001b[0m in \u001b[0;36m__init__\u001b[0;34m(self, params, defaults)\u001b[0m\n\u001b[1;32m    264\u001b[0m         \u001b[0;34m.\u001b[0m\u001b[0;34m.\u001b[0m \u001b[0mnote\u001b[0m\u001b[0;34m:\u001b[0m\u001b[0;34m:\u001b[0m\u001b[0;34m\u001b[0m\u001b[0;34m\u001b[0m\u001b[0m\n\u001b[1;32m    265\u001b[0m             \u001b[0mUnless\u001b[0m \u001b[0motherwise\u001b[0m \u001b[0mspecified\u001b[0m\u001b[0;34m,\u001b[0m \u001b[0mthis\u001b[0m \u001b[0mfunction\u001b[0m \u001b[0mshould\u001b[0m \u001b[0;32mnot\u001b[0m \u001b[0mmodify\u001b[0m \u001b[0mthe\u001b[0m\u001b[0;34m\u001b[0m\u001b[0;34m\u001b[0m\u001b[0m\n\u001b[0;32m--> 266\u001b[0;31m             \u001b[0;31m`\u001b[0m\u001b[0;31m`\u001b[0m\u001b[0;34m.\u001b[0m\u001b[0mgrad\u001b[0m\u001b[0;31m`\u001b[0m\u001b[0;31m`\u001b[0m \u001b[0mfield\u001b[0m \u001b[0mof\u001b[0m \u001b[0mthe\u001b[0m \u001b[0mparameters\u001b[0m\u001b[0;34m.\u001b[0m\u001b[0;34m\u001b[0m\u001b[0;34m\u001b[0m\u001b[0m\n\u001b[0m\u001b[1;32m    267\u001b[0m         \"\"\"\n\u001b[1;32m    268\u001b[0m         \u001b[0;32mraise\u001b[0m \u001b[0mNotImplementedError\u001b[0m\u001b[0;34m\u001b[0m\u001b[0;34m\u001b[0m\u001b[0m\n",
            "\u001b[0;32m/usr/local/lib/python3.10/dist-packages/torch/_compile.py\u001b[0m in \u001b[0;36minner\u001b[0;34m(*args, **kwargs)\u001b[0m\n",
            "\u001b[0;31mModuleNotFoundError\u001b[0m: No module named 'torch._dynamo'",
            "",
            "\u001b[0;31m---------------------------------------------------------------------------\u001b[0;32m\nNOTE: If your import is failing due to a missing package, you can\nmanually install dependencies using either !pip or !apt.\n\nTo view examples of installing some common dependencies, click the\n\"Open Examples\" button below.\n\u001b[0;31m---------------------------------------------------------------------------\u001b[0m\n"
          ],
          "errorDetails": {
            "actions": [
              {
                "action": "open_url",
                "actionText": "Open Examples",
                "url": "/notebooks/snippets/importing_libraries.ipynb"
              }
            ]
          }
        }
      ]
    },
    {
      "cell_type": "code",
      "source": [
        "def evaluate_model(model, test_loader, device, pad_token_index):\n",
        "    model.eval()  # Set the model to evaluation mode\n",
        "    total_loss = 0\n",
        "    all_predictions = []\n",
        "    all_labels = []\n",
        "\n",
        "    with torch.no_grad():\n",
        "        for sentences, labels in test_loader:\n",
        "            sentences = sentences.to(device)\n",
        "            labels = labels.to(device)\n",
        "            labels_flattened = labels.view(-1)  # Flatten labels\n",
        "\n",
        "            outputs = model(sentences)\n",
        "            outputs = outputs.view(-1, num_labels)\n",
        "\n",
        "            # Exclude padding tokens from predictions and true labels\n",
        "            mask = labels_flattened != pad_token_index\n",
        "            predictions = torch.argmax(outputs, dim=1)\n",
        "            filtered_predictions = predictions[mask]\n",
        "            filtered_labels = labels_flattened[mask]\n",
        "\n",
        "            all_predictions.extend(filtered_predictions.cpu().numpy())\n",
        "            all_labels.extend(filtered_labels.cpu().numpy())\n",
        "\n",
        "            # Compute the loss only on non-padding tokens\n",
        "            loss = criterion(outputs[mask], filtered_labels)\n",
        "            total_loss += loss.item()\n",
        "\n",
        "    avg_loss = total_loss / len(test_loader)\n",
        "    print(f\"Test Loss: {avg_loss:.4f}\")\n",
        "    return all_predictions, all_labels\n",
        "\n"
      ],
      "metadata": {
        "id": "HWuVqd-HQZDx"
      },
      "execution_count": null,
      "outputs": []
    },
    {
      "cell_type": "code",
      "source": [
        "# Evaluate the model\n",
        "predictions, true_labels = evaluate_model(model, test_loader, device, label_pad_index)"
      ],
      "metadata": {
        "id": "7bDe3OKcREBr"
      },
      "execution_count": null,
      "outputs": []
    },
    {
      "cell_type": "code",
      "source": [
        "from sklearn.metrics import accuracy_score, classification_report\n",
        "\n",
        "# Assuming predictions and true_labels are already flattened as earlier\n",
        "\n",
        "# Calculate overall accuracy\n",
        "accuracy = accuracy_score(true_labels, predictions)\n",
        "print(f\"Overall Accuracy: {accuracy:.4f}\")\n",
        "\n",
        "# Generate a comprehensive classification report\n",
        "report = classification_report(true_labels, predictions, zero_division=0)\n",
        "print(\"Classification Report:\\n\", report)"
      ],
      "metadata": {
        "id": "JYtGzJIjRD1J"
      },
      "execution_count": null,
      "outputs": []
    },
    {
      "cell_type": "code",
      "source": [],
      "metadata": {
        "id": "oYIDeuF1RDr3"
      },
      "execution_count": null,
      "outputs": []
    },
    {
      "cell_type": "code",
      "source": [],
      "metadata": {
        "id": "e9CFa39oRDjS"
      },
      "execution_count": null,
      "outputs": []
    },
    {
      "cell_type": "code",
      "source": [],
      "metadata": {
        "id": "9kF9eMliQY1x"
      },
      "execution_count": null,
      "outputs": []
    },
    {
      "cell_type": "code",
      "source": [
        "from google.colab import drive\n",
        "drive.mount('/content/drive')\n",
        "\n",
        "# Saving the model to Google Drive\n",
        "torch.save(model.state_dict(), '/content/NLP-Project/model_state_dict.pth')\n"
      ],
      "metadata": {
        "id": "3XECTK4nAG3V"
      },
      "execution_count": null,
      "outputs": []
    },
    {
      "cell_type": "code",
      "source": [
        "# from google.colab import files\n",
        "# files.download('/content/NLP-Project/model_state_dict.pth')\n"
      ],
      "metadata": {
        "id": "pVJbtzs6BQOc"
      },
      "execution_count": null,
      "outputs": []
    },
    {
      "cell_type": "code",
      "source": [
        "# # Loading the model state dictionary\n",
        "# model.load_state_dict(torch.load('/content/NLP-Project/model_state_dict.pth'))\n",
        "# model.eval()  # Setting the model to evaluation mode\n"
      ],
      "metadata": {
        "id": "_YVgXo9qBRbc"
      },
      "execution_count": null,
      "outputs": []
    },
    {
      "cell_type": "code",
      "source": [],
      "metadata": {
        "id": "UuWd-JcVa4NW"
      },
      "execution_count": null,
      "outputs": []
    },
    {
      "cell_type": "code",
      "source": [],
      "metadata": {
        "id": "Q2tIH1c8aUZC"
      },
      "execution_count": null,
      "outputs": []
    },
    {
      "cell_type": "markdown",
      "metadata": {
        "id": "kwJWHK9UmhyF"
      },
      "source": [
        "### Investigating the dataset again\n",
        "\n",
        "\n",
        "\n",
        "\n",
        "\n"
      ]
    },
    {
      "cell_type": "code",
      "execution_count": null,
      "metadata": {
        "id": "pYZruqyYRj2g"
      },
      "outputs": [],
      "source": [
        "import pandas as pd\n",
        "import numpy as np\n",
        "import matplotlib.pyplot as plt\n",
        "plt.style.use(\"ggplot\")\n",
        "\n",
        "\n",
        "data = df2.drop(['POS'], axis =1) #dont need this part\n",
        "data = data.fillna(method=\"ffill\")\n"
      ]
    },
    {
      "cell_type": "code",
      "execution_count": null,
      "metadata": {
        "id": "rkcmXVzBkX9s"
      },
      "outputs": [],
      "source": [
        "'''\n",
        "geo = Geographical Entity\n",
        "org = Organization\n",
        "per = Person\n",
        "gpe = Geopolitical Entity\n",
        "tim = Time indicator\n",
        "art = Artifact\n",
        "eve = Event\n",
        "nat = Natural Phenomenon\n",
        "'''\n",
        "data['Tag'].value_counts()"
      ]
    },
    {
      "cell_type": "code",
      "execution_count": null,
      "metadata": {
        "id": "ngHx2Jsck1IN"
      },
      "outputs": [],
      "source": [
        "class SentenceGetter(object):\n",
        "\n",
        "    def __init__(self, data):\n",
        "        self.n_sent = 1\n",
        "        self.data = data\n",
        "        self.empty = False\n",
        "        agg_func = lambda s: [(w, t) for w, t in zip(s[\"Word\"].values.tolist(),s[\"Tag\"].values.tolist())]\n",
        "        self.grouped = self.data.groupby(\"Sentence #\").apply(agg_func)\n",
        "        self.sentences = [s for s in self.grouped]\n",
        "\n",
        "    def get_next(self):\n",
        "        try:\n",
        "            s = self.grouped[\"Sentence: {}\".format(self.n_sent)]\n",
        "            self.n_sent += 1\n",
        "            return s\n",
        "        except:\n",
        "            return None"
      ]
    },
    {
      "cell_type": "code",
      "execution_count": null,
      "metadata": {
        "id": "VTcBWMRblCx0"
      },
      "outputs": [],
      "source": [
        "getter = SentenceGetter(data)\n",
        "sent = getter.get_next()\n",
        "for i in sent:\n",
        "  print(i)"
      ]
    },
    {
      "cell_type": "code",
      "execution_count": null,
      "metadata": {
        "id": "-Y0DiDbUlZD_"
      },
      "outputs": [],
      "source": [
        "sentences = getter.sentences\n",
        "print(len(sentences))"
      ]
    },
    {
      "cell_type": "code",
      "execution_count": null,
      "metadata": {
        "id": "X7lCxyRakcRj"
      },
      "outputs": [],
      "source": [
        "largest_sen = max(len(sen) for sen in sentences)\n",
        "print('biggest sentence has {} words'.format(largest_sen))"
      ]
    },
    {
      "cell_type": "code",
      "execution_count": null,
      "metadata": {
        "id": "Sc7Nhpxalfb4"
      },
      "outputs": [],
      "source": [
        "%matplotlib inline\n",
        "plt.hist([len(sen) for sen in sentences], bins= 50)\n",
        "plt.show()"
      ]
    },
    {
      "cell_type": "code",
      "execution_count": null,
      "metadata": {
        "id": "0w8r2QZin14i"
      },
      "outputs": [],
      "source": [
        "sentences = getter.sentences\n",
        "\n",
        "# Find sentences longer than 60 words\n",
        "long_sentences = [sen for sen in sentences if len(sen) > 80]\n",
        "\n",
        "# Print the count and the actual sentences\n",
        "print(\"Number of sentences longer than 80 words:\", len(long_sentences))\n",
        "for idx, sen in enumerate(long_sentences, 1):\n",
        "    print(f\"Sentence {idx}: {sen}\")\n"
      ]
    }
  ],
  "metadata": {
    "accelerator": "GPU",
    "colab": {
      "provenance": [],
      "gpuType": "T4",
      "include_colab_link": true
    },
    "kernelspec": {
      "display_name": "Python 3",
      "name": "python3"
    },
    "language_info": {
      "codemirror_mode": {
        "name": "ipython",
        "version": 3
      },
      "file_extension": ".py",
      "mimetype": "text/x-python",
      "name": "python",
      "nbconvert_exporter": "python",
      "pygments_lexer": "ipython3",
      "version": "3.9.5"
    },
    "widgets": {
      "application/vnd.jupyter.widget-state+json": {
        "9565261c93d24f75ad3a1f09f7a9b8d2": {
          "model_module": "@jupyter-widgets/output",
          "model_name": "OutputModel",
          "model_module_version": "1.0.0",
          "state": {
            "_dom_classes": [],
            "_model_module": "@jupyter-widgets/output",
            "_model_module_version": "1.0.0",
            "_model_name": "OutputModel",
            "_view_count": null,
            "_view_module": "@jupyter-widgets/output",
            "_view_module_version": "1.0.0",
            "_view_name": "OutputView",
            "layout": "IPY_MODEL_4198587001f345d8b8f2209a3f94f1e8",
            "msg_id": "",
            "outputs": [
              {
                "output_type": "display_data",
                "data": {
                  "text/plain": "Downloading \u001b[3;36mhttps://allennlp.s3.amazonaws.com/models/elmo/2x4…\u001b[0m \u001b[38;5;237m━━━━━━━━━━━━━━━━━━━━━━━━━━━\u001b[0m \u001b[35m  0%\u001b[0m \u001b[33m0:00:00\u001b[0m \u001b[32m0/336 bytes\u001b[0m\n",
                  "text/html": "<pre style=\"white-space:pre;overflow-x:auto;line-height:normal;font-family:Menlo,'DejaVu Sans Mono',consolas,'Courier New',monospace\">Downloading <span style=\"color: #008080; text-decoration-color: #008080; font-style: italic\">https://allennlp.s3.amazonaws.com/models/elmo/2x4…</span> <span style=\"color: #3a3a3a; text-decoration-color: #3a3a3a\">━━━━━━━━━━━━━━━━━━━━━━━━━━━</span> <span style=\"color: #800080; text-decoration-color: #800080\">  0%</span> <span style=\"color: #808000; text-decoration-color: #808000\">0:00:00</span> <span style=\"color: #008000; text-decoration-color: #008000\">0/336 bytes</span>\n</pre>\n"
                },
                "metadata": {}
              }
            ]
          }
        },
        "4198587001f345d8b8f2209a3f94f1e8": {
          "model_module": "@jupyter-widgets/base",
          "model_name": "LayoutModel",
          "model_module_version": "1.2.0",
          "state": {
            "_model_module": "@jupyter-widgets/base",
            "_model_module_version": "1.2.0",
            "_model_name": "LayoutModel",
            "_view_count": null,
            "_view_module": "@jupyter-widgets/base",
            "_view_module_version": "1.2.0",
            "_view_name": "LayoutView",
            "align_content": null,
            "align_items": null,
            "align_self": null,
            "border": null,
            "bottom": null,
            "display": null,
            "flex": null,
            "flex_flow": null,
            "grid_area": null,
            "grid_auto_columns": null,
            "grid_auto_flow": null,
            "grid_auto_rows": null,
            "grid_column": null,
            "grid_gap": null,
            "grid_row": null,
            "grid_template_areas": null,
            "grid_template_columns": null,
            "grid_template_rows": null,
            "height": null,
            "justify_content": null,
            "justify_items": null,
            "left": null,
            "margin": null,
            "max_height": null,
            "max_width": null,
            "min_height": null,
            "min_width": null,
            "object_fit": null,
            "object_position": null,
            "order": null,
            "overflow": null,
            "overflow_x": null,
            "overflow_y": null,
            "padding": null,
            "right": null,
            "top": null,
            "visibility": null,
            "width": null
          }
        },
        "09bd9bb5fc084bd5a196d6603d633ccb": {
          "model_module": "@jupyter-widgets/output",
          "model_name": "OutputModel",
          "model_module_version": "1.0.0",
          "state": {
            "_dom_classes": [],
            "_model_module": "@jupyter-widgets/output",
            "_model_module_version": "1.0.0",
            "_model_name": "OutputModel",
            "_view_count": null,
            "_view_module": "@jupyter-widgets/output",
            "_view_module_version": "1.0.0",
            "_view_name": "OutputView",
            "layout": "IPY_MODEL_6d827f6b29054376857f8bad940ee7af",
            "msg_id": "",
            "outputs": [
              {
                "output_type": "display_data",
                "data": {
                  "text/plain": "Downloading \u001b[3;36mhttps://allennlp.s3.amazonaws.com/models/elmo/2x4…\u001b[0m \u001b[38;2;249;38;114m━━━━━━━━━━━━━━━━━━━━━━━\u001b[0m\u001b[38;2;249;38;114m╸\u001b[0m \u001b[35m100%\u001b[0m \u001b[33m0:00:15\u001b[0m \u001b[32m373.7/374.4 MB\u001b[0m\n",
                  "text/html": "<pre style=\"white-space:pre;overflow-x:auto;line-height:normal;font-family:Menlo,'DejaVu Sans Mono',consolas,'Courier New',monospace\">Downloading <span style=\"color: #008080; text-decoration-color: #008080; font-style: italic\">https://allennlp.s3.amazonaws.com/models/elmo/2x4…</span> <span style=\"color: #f92672; text-decoration-color: #f92672\">━━━━━━━━━━━━━━━━━━━━━━━╸</span> <span style=\"color: #800080; text-decoration-color: #800080\">100%</span> <span style=\"color: #808000; text-decoration-color: #808000\">0:00:15</span> <span style=\"color: #008000; text-decoration-color: #008000\">373.7/374.4 MB</span>\n</pre>\n"
                },
                "metadata": {}
              }
            ]
          }
        },
        "6d827f6b29054376857f8bad940ee7af": {
          "model_module": "@jupyter-widgets/base",
          "model_name": "LayoutModel",
          "model_module_version": "1.2.0",
          "state": {
            "_model_module": "@jupyter-widgets/base",
            "_model_module_version": "1.2.0",
            "_model_name": "LayoutModel",
            "_view_count": null,
            "_view_module": "@jupyter-widgets/base",
            "_view_module_version": "1.2.0",
            "_view_name": "LayoutView",
            "align_content": null,
            "align_items": null,
            "align_self": null,
            "border": null,
            "bottom": null,
            "display": null,
            "flex": null,
            "flex_flow": null,
            "grid_area": null,
            "grid_auto_columns": null,
            "grid_auto_flow": null,
            "grid_auto_rows": null,
            "grid_column": null,
            "grid_gap": null,
            "grid_row": null,
            "grid_template_areas": null,
            "grid_template_columns": null,
            "grid_template_rows": null,
            "height": null,
            "justify_content": null,
            "justify_items": null,
            "left": null,
            "margin": null,
            "max_height": null,
            "max_width": null,
            "min_height": null,
            "min_width": null,
            "object_fit": null,
            "object_position": null,
            "order": null,
            "overflow": null,
            "overflow_x": null,
            "overflow_y": null,
            "padding": null,
            "right": null,
            "top": null,
            "visibility": null,
            "width": null
          }
        }
      }
    }
  },
  "nbformat": 4,
  "nbformat_minor": 0
}